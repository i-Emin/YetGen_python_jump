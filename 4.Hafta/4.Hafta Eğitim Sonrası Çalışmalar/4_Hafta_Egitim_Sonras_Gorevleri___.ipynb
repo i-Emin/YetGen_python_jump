{
  "cells": [
    {
      "cell_type": "markdown",
      "metadata": {
        "id": "_fF0HQYXyqL6"
      },
      "source": [
        "# Problem 1\n",
        "`ogrenciler` adında bir sözlük oluşturunuz. Kullanıcıdan döngü yardımıyla 3 öğrenci için veri girmesini isteyerek öğrencilerin sırasıyla okul numarası, isim, soy isim, telefon numarası ve doğum tarihi bilgilerini alınız. Aldığınız öğrenci bilgilerini yine aynı döngü yardımıyla `ogrenciler` adındaki sözlükte saklayınız. Daha sonra öğrenci bilgilerinin bulunduğu sözlük yapısını ekrana bastırınız.\n",
        "\n"
      ]
    },
    {
      "cell_type": "code",
      "execution_count": null,
      "metadata": {
        "id": "Bh0bGfaXyqL8"
      },
      "outputs": [],
      "source": [
        "# 1.Problemin Çözümünü Buraya Yazınız\n",
        "ogrenciler = {}\n",
        "\n",
        "for i in range(3):\n",
        "    print(f\"{i+1}. öğrenci bilgilerini giriniz:\")\n",
        "\n",
        "    okul_numarasi = input(\"Okul Numarası: \")\n",
        "    isim = input(\"İsim: \")\n",
        "    soyisim = input(\"Soy İsim: \")\n",
        "    telefon_numarasi = input(\"Telefon Numarası: \")\n",
        "    dogum_tarihi = input(\"Doğum Tarihi (gg/aa/yyyy): \")\n",
        "\n",
        "    ogrenciler[okul_numarasi] = {\n",
        "        'isim': isim,\n",
        "        'soyisim': soyisim,\n",
        "        'telefon_numarasi': telefon_numarasi,\n",
        "        'dogum_tarihi': dogum_tarihi\n",
        "    }\n",
        "\n",
        "print(\"\\nÖğrenci Bilgileri:\")\n",
        "for okul_numarasi, bilgiler in ogrenciler.items():\n",
        "    print(f\"Okul Numarası: {okul_numarasi}\")\n",
        "    for key, value in bilgiler.items():\n",
        "        print(f\"  {key.capitalize()}: {value}\")\n",
        "    print()\n"
      ]
    },
    {
      "cell_type": "markdown",
      "metadata": {
        "id": "RPeRYtAsyqL-"
      },
      "source": [
        "# Problem 2\n",
        "\n",
        "### a - Biraz ısınarak başlayalım!\n",
        "\n",
        "```\n",
        "numbers = [5,10,10,15,15,15,20,20,20,20]\n",
        "```\n",
        "\n",
        "Yukarıda `numbers` adında 10 elemanlı bir liste verilmiştir. Bu listenin her elemanını kontrol eden ve tekrar eden elemanları bir kez olacak şekilde başka bir listeye kopyalayan bir program yazınız. Son olarak oluşturduğunuz listeyi ekrana bastırınız.\n",
        "\n",
        "\n",
        "\n",
        "\n",
        "```\n",
        ">Output\n",
        "[5, 10, 15, 20]\n",
        "```\n"
      ]
    },
    {
      "cell_type": "code",
      "execution_count": null,
      "metadata": {
        "id": "Gfq3968eyqL-"
      },
      "outputs": [],
      "source": [
        "# 2.Problemin a Şıkkının Çözümünü Buraya Yazınız\n",
        "numbers = [5,10,10,15,15,15,20,20,20,20]\n",
        "uniqueNumbers = []\n",
        "repeatNumbers = []\n",
        "\n",
        "for number in numbers:\n",
        "    if number not in uniqueNumbers:\n",
        "        uniqueNumbers.append(number)\n",
        "    elif number not in repeatNumbers:\n",
        "        repeatNumbers.append(number)"
      ]
    },
    {
      "cell_type": "markdown",
      "metadata": {
        "id": "PGHSyGRyyqL_"
      },
      "source": [
        "### 🌶️ b) Hadi işi biraz daha zorlaştıralım!\n",
        "\n",
        "\n",
        "Şimdiyse senden `numbers` isimli listedeki tekrar eden elemanları `repeatNumbers` adındaki listeye; tekrar etmeyen elemanları `uniqueNumbers`adındaki listeye kopyalayan yazmanı ve listeleri ekrana bastırmanı bekliyoruz\n",
        "\n",
        "```\n",
        ">Output\n",
        "Tekrar Eden Elemanlar: [10, 10, 15, 15, 15, 20, 20, 20, 20]\n",
        "Tekrar Etmeyen Elemanlar: [5]\n",
        "```"
      ]
    },
    {
      "cell_type": "code",
      "execution_count": null,
      "metadata": {
        "id": "oYMeKoNYyqL_"
      },
      "outputs": [],
      "source": [
        "# 2.Problemin b Şıkkının Çözümünü Buraya Yazınız\n",
        "numbers = [5,10,10,15,15,15,20,20,20,20]\n",
        "uniqueNumbers = []\n",
        "repeatNumbers = []\n",
        "\n",
        "for number in numbers:\n",
        "    if number not in uniqueNumbers:\n",
        "        uniqueNumbers.append(number)\n",
        "    elif number not in repeatNumbers:\n",
        "        repeatNumbers.append(number)"
      ]
    },
    {
      "cell_type": "markdown",
      "metadata": {
        "id": "TbBm6HsiyqL_"
      },
      "source": [
        "# Problem 3\n",
        "sn1 = {1,2,3,4,5}\n",
        "\n",
        "sn2 = {4,5,6,7,8}\n",
        "\n",
        " Verilen 2 adet küme için kesişimlerini, farklarını ve birleşimlerini bulunuz."
      ]
    },
    {
      "cell_type": "code",
      "execution_count": null,
      "metadata": {
        "id": "RTnpsNvVyqL_"
      },
      "outputs": [],
      "source": [
        "# 3.Problemin Çözümünü Buraya Yazınız\n",
        "sn1 = {1,2,3,4,5}\n",
        "sn2 = {4,5,6,7,8}\n",
        "\n",
        "# kesişim\n",
        "print(\"kesişim:\", sn1.intersection(sn2))\n",
        "\n",
        "# fark\n",
        "print(\"fark:\", sn1.difference(sn2))\n",
        "\n",
        "# birleşim\n",
        "print(\"birleşim:\", sn1.union(sn2))"
      ]
    },
    {
      "cell_type": "markdown",
      "metadata": {
        "id": "oWKWk_zUyqMA"
      },
      "source": [
        "# Problem 4\n",
        "\n",
        "Buradaki işlemlerimizin tamamı stringler içindir. Aşağıda verilecek olan metodlar için kendinizin örnek yaratması gerekmektedir.\n",
        "\n",
        "Örneğin `upper` için `string` değişkeni oluştururken` k = \"BAC\"` şeklinde oluşturmayınız. Bunun yerine k değişkenini `k = \"bac`\" şeklinde oluşturmanız `upper` metodundaki değişimi görebilmeniz için daha iyi olacaktır.\n",
        "\n",
        "Bütün metodlardaki değişimin gözle görülür şekilde değişimi beklenmektedir.\n",
        "\n",
        "\n",
        "1- capitalize(), lower(), upper(), swapcase(), title(), replace()\n",
        "\n",
        "2- endswith(), startswith(), find(), index(), count()\n",
        "\n",
        "3- split(), strip(), join(), islower(), isalpha(), isdigit()\n",
        "\n",
        "\n",
        "Yukarıdaki `string` metodlarındaki değişimleri görebildiğimiz bir program yazınız.\n"
      ]
    },
    {
      "cell_type": "code",
      "execution_count": 3,
      "metadata": {
        "colab": {
          "base_uri": "https://localhost:8080/"
        },
        "id": "FAeic4H4yqMA",
        "outputId": "06d9ed0c-7aed-4fde-a27e-9445213f9aa3"
      },
      "outputs": [
        {
          "output_type": "stream",
          "name": "stdout",
          "text": [
            "BAC\n",
            "Bac\n",
            "bac\n",
            "BAC\n",
            "Bac\n",
            "bAc\n",
            "True\n",
            "True\n",
            "1\n",
            "1\n",
            "1\n"
          ]
        }
      ],
      "source": [
        "# 4.Problemin Çözümünü Buraya Yazınız\n",
        "k = \"bac\"\n",
        "k.upper()\n",
        "print(k.upper())\n",
        "k.capitalize()\n",
        "print(k.capitalize())\n",
        "k.lower()\n",
        "print(k.lower())\n",
        "k.swapcase()\n",
        "print(k.swapcase())\n",
        "k.title()\n",
        "print(k.title())\n",
        "k.replace(\"a\", \"A\")\n",
        "print(k.replace(\"a\", \"A\"))\n",
        "k.endswith(\"c\")\n",
        "print(k.endswith(\"c\"))\n",
        "k.startswith(\"b\")\n",
        "print(k.startswith(\"b\"))\n",
        "k.find(\"a\")\n",
        "print(k.find(\"a\"))\n",
        "k.index(\"a\")\n",
        "print(k.index(\"a\"))\n",
        "k.count(\"a\")\n",
        "print(k.count(\"a\"))"
      ]
    }
  ],
  "metadata": {
    "kernelspec": {
      "display_name": "Python 3.10.5 64-bit",
      "language": "python",
      "name": "python3"
    },
    "language_info": {
      "name": "python",
      "version": "3.10.5"
    },
    "orig_nbformat": 4,
    "vscode": {
      "interpreter": {
        "hash": "5026d2d6e7aaaaba093def813beadff083d8733e4a511af01735cbabd156995d"
      }
    },
    "colab": {
      "provenance": []
    }
  },
  "nbformat": 4,
  "nbformat_minor": 0
}