{
  "cells": [
    {
      "cell_type": "markdown",
      "metadata": {
        "id": "-My6RWLrhXIq"
      },
      "source": [
        "# Problem 1\n",
        "Sözlükleri kullanarak bir telefon rehberi yazın. Bu rehberde kullanıcıya kimin telefonunu görüntülemek istediğini sorun ve kullanıcının girdiği isme göre o kişinin telefon numarasını yazdırın. Proje sonunda elde edeceğiniz çıktı  şuna benzer olmalı:\n",
        "\n",
        "\n",
        "Lütfen numarasını öğrenmek istediğiniz kişinin adını girin: Ahmet\n",
        "\n",
        "Ahmet isimli kişinin numarası şu şekildedir: 0532 678 13 19"
      ]
    },
    {
      "cell_type": "code",
      "execution_count": 6,
      "metadata": {
        "id": "LHIQEhchhXIu",
        "colab": {
          "base_uri": "https://localhost:8080/"
        },
        "outputId": "30b57d3c-ccae-4045-b110-4cca1b793d77"
      },
      "outputs": [
        {
          "output_type": "stream",
          "name": "stdout",
          "text": [
            "Lütfen numarasını öğrenmek istediğiniz kişinin adını girin: Fatma\n",
            "Fatma isimli kişinin numarası şu şekildedir: 0500 111 22 33\n"
          ]
        }
      ],
      "source": [
        "# 1.Problemin Çözümünü Buraya Yazınız\n",
        "telefon_rehberi = {\n",
        "    \"Ahmet\": \"0532 678 13 19\",\n",
        "    \"Mehmet\": \"0543 123 45 67\",\n",
        "    \"Ayşe\": \"0555 987 65 43\",\n",
        "    \"Fatma\": \"0500 111 22 33\"\n",
        "}\n",
        "\n",
        "isim = input(\"Lütfen numarasını öğrenmek istediğiniz kişinin adını girin: \")\n",
        "\n",
        "if isim in telefon_rehberi:\n",
        "    print(f\"{isim} isimli kişinin numarası şu şekildedir: {telefon_rehberi[isim]}\")\n",
        "else:\n",
        "    print(f\"{isim} isimli kişi rehberde bulunamadı.\")\n",
        "\n"
      ]
    },
    {
      "cell_type": "markdown",
      "metadata": {
        "id": "rlgfjEi7hXIv"
      },
      "source": [
        "# Problem 2\n",
        "Sözlükleri kullanarak bir şirket çalışanları indeksi oluşturun. Bu isim indeksinde kişilerin isimleri key, kişilerin  memleket, yaş ve görev bilgileri value olmalıdır. Burada kullanacağımız value değerleri liste olmalıdır.\n",
        "\n",
        "\n",
        "Daha sonra bir isim sorgulama ekranı gibi kullanıcıya kimin bilgilerini görüntülemek istediğini\n",
        "sorun ve sorgulanan kişinin ekranda gösterilmesini sağlayın. Proje sonunda elde edeceğiniz çıktı şu şekilde olmalı:\n",
        "\n",
        "\n",
        "Lütfen bilgilerini görüntülemek istediğiniz çalışanın ismini girin: Mehmet Yağız\n",
        "\n",
        "Mehmet Yağız= Memleket: Adana Yaş: 40 Görev: Direktör"
      ]
    },
    {
      "cell_type": "code",
      "execution_count": 7,
      "metadata": {
        "id": "O09zrrs0hXIv",
        "colab": {
          "base_uri": "https://localhost:8080/"
        },
        "outputId": "bdcb07f1-333c-4004-8afc-ccda360b2c6f"
      },
      "outputs": [
        {
          "output_type": "stream",
          "name": "stdout",
          "text": [
            "Lütfen bilgilerini görüntülemek istediğiniz çalışanın ismini girin: Fatma Kaya\n",
            "Fatma Kaya= Memleket: İzmir Yaş: 50 Görev: Müdür\n"
          ]
        }
      ],
      "source": [
        "# 2.Problemin Çözümünü Buraya Yazınız\n",
        "calisanlar = {\n",
        "    \"Mehmet Yağız\": [\"Adana\", 40, \"Direktör\"],\n",
        "    \"Ayşe Demir\": [\"İstanbul\", 35, \"Mühendis\"],\n",
        "    \"Ali Yıldız\": [\"Ankara\", 29, \"Analist\"],\n",
        "    \"Fatma Kaya\": [\"İzmir\", 50, \"Müdür\"],\n",
        "    \"Ahmet Arslan\": [\"Bursa\", 45, \"Yönetici\"]\n",
        "}\n",
        "\n",
        "isim = input(\"Lütfen bilgilerini görüntülemek istediğiniz çalışanın ismini girin: \")\n",
        "\n",
        "if isim in calisanlar:\n",
        "    memleket, yas, gorev = calisanlar[isim]\n",
        "    print(f\"{isim}= Memleket: {memleket} Yaş: {yas} Görev: {gorev}\")\n",
        "else:\n",
        "    print(f\"{isim} isimli çalışan rehberde bulunamadı.\")\n"
      ]
    },
    {
      "cell_type": "markdown",
      "metadata": {
        "id": "G67ztXG-hXIw"
      },
      "source": [
        "# Problem 3\n",
        "\n",
        "3 öğrenciden oluşan bir öğrenci not sözlüğü oluşturun. Bu sözlükte öğrencilerin notları value olarak bir listede toplansın.\n",
        "\n",
        "Kullanıcıya hangi öğrencinin notlarını görmek istediğini sorun. Öğrencinin notu görüntülendiğinde program sonunda şöyle bir çıktı elde etmelisiniz:\n",
        "\n",
        "```\n",
        "Lütfen notlarını görmek istediğiniz öğrencinin adını girin: Mehmet\n",
        "\n",
        "Mehmet isimli öğrencinin      1.Sınav Notu:72\n",
        "                              2.Sınav Notu:66\n",
        "                              3.Sınav Notu:48\n",
        "Not Ortalaması: 62.0\n"
      ]
    },
    {
      "cell_type": "code",
      "execution_count": 8,
      "metadata": {
        "id": "TXQ_fuCHhXIw",
        "colab": {
          "base_uri": "https://localhost:8080/"
        },
        "outputId": "3adde1e2-68f3-46cc-a285-417fef5db95c"
      },
      "outputs": [
        {
          "output_type": "stream",
          "name": "stdout",
          "text": [
            "Lütfen notlarını görmek istediğiniz öğrencinin adını girin: Ali\n",
            "Ali isimli öğrencinin\n",
            "     1. Sınav Notu: 55\n",
            "     2. Sınav Notu: 67\n",
            "     3. Sınav Notu: 70\n",
            "Not Ortalaması: 64.0\n"
          ]
        }
      ],
      "source": [
        "# 3.Problemin Çözümünü Buraya Yazınız\n",
        "ogrenciler = {\n",
        "    \"Mehmet\": [72, 66, 48],\n",
        "    \"Ayşe\": [88, 74, 91],\n",
        "    \"Ali\": [55, 67, 70]\n",
        "}\n",
        "\n",
        "isim = input(\"Lütfen notlarını görmek istediğiniz öğrencinin adını girin: \")\n",
        "\n",
        "if isim in ogrenciler:\n",
        "    notlar = ogrenciler[isim]\n",
        "    print(f\"{isim} isimli öğrencinin\")\n",
        "    for i, notu in enumerate(notlar, start=1):\n",
        "        print(f\"     {i}. Sınav Notu: {notu}\")\n",
        "    not_ortalamasi = sum(notlar) / len(notlar)\n",
        "    print(f\"Not Ortalaması: {not_ortalamasi:.1f}\")\n",
        "else:\n",
        "    print(f\"{isim} isimli öğrenci rehberde bulunamadı.\")\n"
      ]
    },
    {
      "cell_type": "markdown",
      "metadata": {
        "id": "oel6A5WFhXIw"
      },
      "source": [
        "# Problem 4"
      ]
    },
    {
      "cell_type": "code",
      "execution_count": 9,
      "metadata": {
        "id": "jVRdspCrhXIx",
        "colab": {
          "base_uri": "https://localhost:8080/"
        },
        "outputId": "92a05e4a-c43f-45d9-b2b1-8529446ca3b9"
      },
      "outputs": [
        {
          "output_type": "stream",
          "name": "stdout",
          "text": [
            "['Bmw', 'Mercedes', 'Opel', 'Mazda']\n",
            "Öğrenci: Yiğit Bilgi, Doğum Yılı: 2010, Notlar: (70, 60, 70)\n",
            "Öğrenci: Sena Turan, Doğum Yılı: 1999, Notlar: (80, 80, 70)\n",
            "Öğrenci: Ahmet Turan, Doğum Yılı: 1998, Notlar: (80, 70, 90)\n",
            "Lütfen 1. markayı girin: Opel\n",
            "Lütfen 2. markayı girin: Mzda\n",
            "Lütfen 3. markayı girin: Mazda\n",
            "['Opel', 'Mzda', 'Mazda']\n"
          ]
        }
      ],
      "source": [
        "# 1-  \"Bmw, Mercedes, Opel, Mazda\" elemanlarına sahip bir liste oluşturunuz.\n",
        "x = [\"Bmw\", \"Mercedes\", \"Opel\", \"Mazda\"]\n",
        "# 2-  Liste elemanlarını ekrana yazdırınız.\n",
        "print(x)\n",
        "# 2-  Liste Kaç elemanlıdır ?\n",
        "len(x)\n",
        "# 3-  Listenin ilk ve son elemanı nedir ?\n",
        "x[0], x[-1]\n",
        "# 4-  Mazda değerini Toyota ile değiştirin.\n",
        "x[3] = \"Toyota\"\n",
        "# 5-  Listenin -2 indeksindeki değer nedir ?\n",
        "x[-2]\n",
        "# 6-  Listenin ilk 3 elemanını alın.\n",
        "x[:3]\n",
        "# 7-  Listenin son 2 elemanı yerine \"Toyota\" ve \"Renault\" değerlerini ekleyin.\n",
        "x[-2:] = [\"Toyota\", \"Renault\"]\n",
        "# 8-  Listenin üzerine \"Audi\" ve \"Nissan\" değerlerini ekleyin.\n",
        "x.extend([\"Audi\", \"Nissan\"])\n",
        "# 9- Listenin son elemanını silin.\n",
        "x.pop()\n",
        "# 10- Liste elemanlarını tersten yazdırınız.\n",
        "x[::-1]\n",
        "# 11- Aşağıdaki verileri bir liste içinde saklayınız.\n",
        "\n",
        "      # studentA: Yiğit Bilgi 2010, (70,60,70)\n",
        "      # studentB: Sena Turan  1999, (80,80,70)\n",
        "      # studentC: Ahmet Turan 1998, (80,70,90)\n",
        "ogrenciler = [\n",
        "    [\"Yiğit Bilgi\", 2010, (70, 60, 70)],\n",
        "    [\"Sena Turan\", 1999, (80, 80, 70)],\n",
        "    [\"Ahmet Turan\", 1998, (80, 70, 90)]\n",
        "]\n",
        "\n",
        "# 12- Liste elemanlarını ekrana yazdırınız.\n",
        "for ogrenci in ogrenciler:\n",
        "    ad_soyad = ogrenci[0]\n",
        "    dogum_yili = ogrenci[1]\n",
        "    notlar = ogrenci[2]\n",
        "    print(f\"Öğrenci: {ad_soyad}, Doğum Yılı: {dogum_yili}, Notlar: {notlar}\")\n",
        "\n",
        "\n",
        "names = ['Ali','Yağmur','Hakan','Deniz']\n",
        "years = [1998, 2000, 1998, 1987]\n",
        "\n",
        "# 13-  \"Cenk\" ismini listenin sonuna ekleyiniz.\n",
        "names.append(\"Cenk\")\n",
        "# 14-  \"Sena\" değerini listenin başına ekleyiniz.\n",
        "names.insert(0, \"Sena\")\n",
        "\n",
        "# 15-  \"Deniz\" ismini listeden siliniz.\n",
        "names.remove(\"Deniz\")\n",
        "\n",
        "# 16-  \"Ali\" listenin bir elemanı mıdır ?\n",
        "names.index(\"Ali\")\n",
        "# 17-  Liste elemanlarını ters çevirin.\n",
        "names[::-1]\n",
        "# 18-  Liste elemanlarını alfabetik olarak sıralayınız.\n",
        "names.sort()\n",
        "\n",
        "# 19-  years listesini rakamsal büyüklüğe göre sıralayınız.\n",
        "years.sort()\n",
        "# 20-  str = \"Chevrolet,Dacia\" karakter dizisini listeye çeviriniz.\n",
        "yerastr = \"Chevrolet,Dacia\"\n",
        "yerastr.split(\",\")\n",
        "\n",
        "# 21- years dizisinde kaç tane 1998 değeri vardır ?\n",
        "years.count(1998)\n",
        "\n",
        "# 22- years dizisinin tüm elemanlarını siliniz.\n",
        "years.clear()\n",
        "\n",
        "# 23- Kullanıcıdan alacağınız 3 tane marka bilgisini bir listede saklayınız.\n",
        "y = []\n",
        "for i in range(3):\n",
        "    marka = input(f\"Lütfen {i+1}. markayı girin: \")\n",
        "    y.append(marka)\n",
        "print(y)\n"
      ]
    }
  ],
  "metadata": {
    "kernelspec": {
      "display_name": "Python 3.10.5 64-bit",
      "language": "python",
      "name": "python3"
    },
    "language_info": {
      "codemirror_mode": {
        "name": "ipython",
        "version": 3
      },
      "file_extension": ".py",
      "mimetype": "text/x-python",
      "name": "python",
      "nbconvert_exporter": "python",
      "pygments_lexer": "ipython3",
      "version": "3.10.5"
    },
    "orig_nbformat": 4,
    "vscode": {
      "interpreter": {
        "hash": "5026d2d6e7aaaaba093def813beadff083d8733e4a511af01735cbabd156995d"
      }
    },
    "colab": {
      "provenance": []
    }
  },
  "nbformat": 4,
  "nbformat_minor": 0
}