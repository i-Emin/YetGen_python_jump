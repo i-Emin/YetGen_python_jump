{
  "cells": [
    {
      "cell_type": "markdown",
      "metadata": {
        "id": "RJ8vILjIPSff"
      },
      "source": [
        "# Problem 1\n",
        "\n",
        "Kumanda isminde bir sınıf oluşturarak aşağıdaki işlemleri yapmasını sağlayan fonksiyonları sınıf içerisinde yazalım.\n",
        "1. Tv Aç\n",
        "2. Tv Kapat\n",
        "3. Ses Ayarları\n",
        "4. Kanal Ekle\n",
        "5. Kanal Sayısını Öğrenme\n",
        "6. Rastgele Kanala Geçme\n",
        "7. Televizyon Bilgileri\n",
        "\n",
        "\n",
        "Kumandayı kapatmak için q tuşuna basılmalı ve diğer durumlarda hangi işlemi yapmak istediği sorulmalıdır. Her işlemde gerekli fonksiyonunun sınıf içerisinden çağırılması gerekmektedir.\n",
        "\n",
        "random ve time kütüphanesini araştırarak kullanabilirsiniz.\n",
        "\n",
        "Kendi istediğiniz özellikleri eklemekte serbetsiniz."
      ]
    },
    {
      "cell_type": "code",
      "source": [
        "import time\n",
        "import random\n",
        "\n",
        "class Kumanda:\n",
        "    def __init__(self, tv_durum=False, tv_ses=0, kanal_listesi=None, kanal=None):\n",
        "        if kanal_listesi is None:\n",
        "            kanal_listesi = [\"TRT\"]\n",
        "        self.tv_durum = tv_durum\n",
        "        self.tv_ses = tv_ses\n",
        "        self.kanal_listesi = kanal_listesi\n",
        "        self.kanal = kanal\n",
        "\n",
        "    def tv_ac(self):\n",
        "        self.tv_durum = True\n",
        "        print(\"TV açıldı.\")\n",
        "\n",
        "    def tv_kapat(self):\n",
        "        self.tv_durum = False\n",
        "        print(\"TV kapatıldı.\")\n",
        "\n",
        "    def ses_ayarları(self):\n",
        "        inp = input(\"Sesi azaltmak için (-), artırmak için (+) tuşuna basınız: \")\n",
        "        if inp == \"-\":\n",
        "            if self.tv_ses > 0:\n",
        "                self.tv_ses -= 1\n",
        "                print(f\"Ses {self.tv_ses} olarak ayarlandı.\")\n",
        "        elif inp == \"+\":\n",
        "            if self.tv_ses < 100:\n",
        "                self.tv_ses += 1\n",
        "                print(f\"Ses {self.tv_ses} olarak ayarlandı.\")\n",
        "\n",
        "    def kanal_ekle(self, kanal_ismi):\n",
        "        print(\"Kanal ekleniyor...\")\n",
        "        self.kanal_listesi.append(kanal_ismi)\n",
        "        print(\"Kanal eklendi.\")\n",
        "\n",
        "    def kanal_sayisini_ogrenme(self):\n",
        "        return len(self.kanal_listesi)\n",
        "\n",
        "    def rastgele_kanal(self):\n",
        "        rastgele = random.randint(0, len(self.kanal_listesi) - 1)\n",
        "        self.kanal = self.kanal_listesi[rastgele]\n",
        "        print(f\"Rastgele Kanal: {self.kanal}\")\n",
        "\n",
        "    def televizyon_bilgileri(self):\n",
        "        return f\"TV Durumu: {'Açık' if self.tv_durum else 'Kapalı'}\\nSes Seviyesi: {self.tv_ses}\\nKanal Listesi: {', '.join(self.kanal_listesi)}\\nŞu Anki Kanal: {self.kanal}\"\n",
        "\n",
        "\n",
        "kumanda = Kumanda()\n",
        "\n",
        "print(\"\"\"\n",
        "Kumanda Menüsü\n",
        "1. TV aç\n",
        "2. TV kapat\n",
        "3. Ses ayarları\n",
        "4. Kanal ekle\n",
        "5. Kanal sayısını öğrenme\n",
        "6. Rastgele kanala geç\n",
        "7. Televizyon bilgileri\n",
        "Çıkmak için 'q' tuşuna basın.\n",
        "\"\"\")\n",
        "\n",
        "while True:\n",
        "    secim = input(\"Seçiminiz: \")\n",
        "    if secim == \"q\":\n",
        "        print(\"Program sonlandırıldı.\")\n",
        "        break\n",
        "    elif secim == \"1\":\n",
        "        kumanda.tv_ac()\n",
        "    elif secim == \"2\":\n",
        "        kumanda.tv_kapat()\n",
        "    elif secim == \"3\":\n",
        "        kumanda.ses_ayarları()\n",
        "    elif secim == \"4\":\n",
        "        kanal_ismi = input(\"Eklemek istediğiniz kanalın ismini giriniz: \")\n",
        "        kumanda.kanal_ekle(kanal_ismi)\n",
        "    elif secim == \"5\":\n",
        "        print(f\"Kanal Sayısı: {kumanda.kanal_sayisini_ogrenme()}\")\n",
        "    elif secim == \"6\":\n",
        "        kumanda.rastgele_kanal()\n",
        "    elif secim == \"7\":\n",
        "        print(kumanda.televizyon_bilgileri())\n",
        "    else:\n",
        "        print(\"Geçersiz işlem.\")\n"
      ],
      "metadata": {
        "colab": {
          "base_uri": "https://localhost:8080/"
        },
        "id": "Bc8yQL9SQnu-",
        "outputId": "8accd4fc-8c82-40ee-a891-e95acf39e56b"
      },
      "execution_count": 7,
      "outputs": [
        {
          "output_type": "stream",
          "name": "stdout",
          "text": [
            "\n",
            "Kumanda Menüsü\n",
            "1. TV aç\n",
            "2. TV kapat\n",
            "3. Ses ayarları\n",
            "4. Kanal ekle\n",
            "5. Kanal sayısını öğrenme\n",
            "6. Rastgele kanala geç\n",
            "7. Televizyon bilgileri\n",
            "Çıkmak için 'q' tuşuna basın.\n",
            "\n",
            "Seçiminiz: 1\n",
            "TV açıldı.\n",
            "Seçiminiz: 3\n",
            "Sesi azaltmak için (-), artırmak için (+) tuşuna basınız: +\n",
            "Ses 1 olarak ayarlandı.\n",
            "Seçiminiz: +\n",
            "Geçersiz işlem.\n",
            "Seçiminiz: 4\n",
            "Eklemek istediğiniz kanalın ismini giriniz: TLC\n",
            "Kanal ekleniyor...\n",
            "Kanal eklendi.\n",
            "Seçiminiz: 5\n",
            "Kanal Sayısı: 2\n",
            "Seçiminiz: 6\n",
            "Rastgele Kanal: TLC\n",
            "Seçiminiz: 7\n",
            "TV Durumu: Açık\n",
            "Ses Seviyesi: 1\n",
            "Kanal Listesi: TRT, TLC\n",
            "Şu Anki Kanal: TLC\n",
            "Seçiminiz: q\n",
            "Program sonlandırıldı.\n"
          ]
        }
      ]
    }
  ],
  "metadata": {
    "kernelspec": {
      "display_name": "Python 3",
      "language": "python",
      "name": "python3"
    },
    "language_info": {
      "name": "python",
      "version": "3.10.5 (tags/v3.10.5:f377153, Jun  6 2022, 16:14:13) [MSC v.1929 64 bit (AMD64)]"
    },
    "orig_nbformat": 4,
    "vscode": {
      "interpreter": {
        "hash": "5026d2d6e7aaaaba093def813beadff083d8733e4a511af01735cbabd156995d"
      }
    },
    "colab": {
      "provenance": []
    }
  },
  "nbformat": 4,
  "nbformat_minor": 0
}