{
  "cells": [
    {
      "cell_type": "markdown",
      "metadata": {
        "id": "uiCS34ejv4VG"
      },
      "source": [
        "# Problem 1\n",
        "Vehicle sınıfından miras alan bir Bus sınıfı oluşturun. Bus.seating_capacity()'nin kapasite bağımsız değişkenine varsayılan olarak 50 değerini verin.\n",
        "\n",
        "```\n",
        "Output:\n",
        "> The seating capacity of a bus is 50 passengers\n",
        "```\n"
      ]
    },
    {
      "cell_type": "code",
      "execution_count": 3,
      "metadata": {
        "id": "keGKzILev4VE",
        "colab": {
          "base_uri": "https://localhost:8080/"
        },
        "outputId": "d7944ad0-79b0-4d76-ae58-3e4efded16c3"
      },
      "outputs": [
        {
          "output_type": "stream",
          "name": "stdout",
          "text": [
            "Otobüs aracının oturma kapasitesi 50 yolcudur.\n"
          ]
        }
      ],
      "source": [
        "# 1.Problemin Çözümünü Buraya Yazınız\n",
        "class Arac:\n",
        "    def __init__(self, isim, hiz, kilometre):\n",
        "        self.isim = isim\n",
        "        self.hiz = hiz\n",
        "        self.kilometre = kilometre\n",
        "\n",
        "    def oturma_kapasitesi(self, kapasite):\n",
        "        return f\"{self.isim} aracının oturma kapasitesi {kapasite} yolcudur.\"\n",
        "\n",
        "class Otobus(Arac):\n",
        "    def oturma_kapasitesi(self, kapasite=50):\n",
        "        return super().oturma_kapasitesi(kapasite)\n",
        "\n",
        "okul_otobusu = Otobus(\"Otobüs\", 180, 12)\n",
        "print(okul_otobusu.oturma_kapasitesi())\n",
        "\n",
        "\n",
        "\n",
        "\n"
      ]
    },
    {
      "cell_type": "markdown",
      "metadata": {
        "id": "TzTHWO2zv4VB"
      },
      "source": [
        "# Problem 2\n",
        "\n",
        "\n",
        "School_bus'ın aynı zamanda Vehicle sınıfının bir örneği olup olmadığını belirleyiniz."
      ]
    },
    {
      "cell_type": "code",
      "execution_count": 4,
      "metadata": {
        "id": "bTc9IfRfv4VG",
        "colab": {
          "base_uri": "https://localhost:8080/"
        },
        "outputId": "2ee6adb4-ed05-4681-82f9-db016d265750"
      },
      "outputs": [
        {
          "output_type": "stream",
          "name": "stdout",
          "text": [
            "Okul Otobüsü aracının oturma kapasitesi 50 yolcudur.\n",
            "True\n"
          ]
        }
      ],
      "source": [
        "# 2.Problemin Çözümünü Buraya Yazınız\n",
        "class Arac:\n",
        "    def __init__(self, isim, hiz, kilometre):\n",
        "        self.isim = isim\n",
        "        self.hiz = hiz\n",
        "        self.kilometre = kilometre\n",
        "\n",
        "    def oturma_kapasitesi(self, kapasite):\n",
        "        return f\"{self.isim} aracının oturma kapasitesi {kapasite} yolcudur.\"\n",
        "\n",
        "class Otobus(Arac):\n",
        "    def oturma_kapasitesi(self, kapasite=50):\n",
        "        return super().oturma_kapasitesi(kapasite)\n",
        "\n",
        "okul_otobusu = Otobus(\"Okul Otobüsü\", 180, 12)\n",
        "print(okul_otobusu.oturma_kapasitesi())\n",
        "\n",
        "print(isinstance(okul_otobusu, Arac))\n"
      ]
    }
  ],
  "metadata": {
    "kernelspec": {
      "display_name": "Python 3",
      "language": "python",
      "name": "python3"
    },
    "language_info": {
      "name": "python",
      "version": "3.10.5 (tags/v3.10.5:f377153, Jun  6 2022, 16:14:13) [MSC v.1929 64 bit (AMD64)]"
    },
    "orig_nbformat": 4,
    "vscode": {
      "interpreter": {
        "hash": "5026d2d6e7aaaaba093def813beadff083d8733e4a511af01735cbabd156995d"
      }
    },
    "colab": {
      "provenance": []
    }
  },
  "nbformat": 4,
  "nbformat_minor": 0
}