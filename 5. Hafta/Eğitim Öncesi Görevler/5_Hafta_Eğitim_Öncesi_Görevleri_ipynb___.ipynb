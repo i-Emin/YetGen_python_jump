{
  "cells": [
    {
      "cell_type": "markdown",
      "metadata": {
        "id": "hpyeSHc7K1aN"
      },
      "source": [
        "# Problem 1\n",
        "Bir YetGenli yeni aldığı bahçesinin etrafına çit çevirmek istiyor. Bahçenin etrafını çit ile çevirmek için gerekli çit uzunluğunu ve bahçenin alanını hesaplayan fonksiyonu yazınız."
      ]
    },
    {
      "cell_type": "code",
      "execution_count": 14,
      "metadata": {
        "id": "HfCgs5BHK1aT",
        "colab": {
          "base_uri": "https://localhost:8080/"
        },
        "outputId": "4f5ecf9d-10f4-46e0-900e-d04bf70c721d"
      },
      "outputs": [
        {
          "output_type": "stream",
          "name": "stdout",
          "text": [
            "Gerekli çit uzunluğu (çevre):75\n",
            "Bahçenin alanı:45\n",
            "Gerekli çit uzunluğu (çevre): 60.0 metre\n",
            "Bahçenin alanı: 200.0 metrekare\n"
          ]
        }
      ],
      "source": [
        "# 1.Problemin Çözümünü Buraya Yazınız\n",
        "def cit_uzunlugu_ve_alan_hesapla(uzunluk, genislik):\n",
        "    input(\"Gerekli çit uzunluğu (çevre):\")\n",
        "    input(\"Bahçenin alanı:\")\n",
        "    cevre = 2 * (uzunluk + genislik)\n",
        "    alan = uzunluk * genislik\n",
        "    return cevre, alan\n",
        "\n",
        "cit_uzunlugu, bahce_alani = cit_uzunlugu_ve_alan_hesapla(uzunluk, genislik)\n",
        "print(\"Gerekli çit uzunluğu (çevre):\", cit_uzunlugu, \"metre\")\n",
        "print(\"Bahçenin alanı:\", bahce_alani, \"metrekare\")\n"
      ]
    },
    {
      "cell_type": "markdown",
      "metadata": {
        "id": "L90q8kwQK1aW"
      },
      "source": [
        "# Problem 2\n",
        "Kendisine gönderilen 2 sayı arasındaki tüm asal sayıları bulan fonksiyonu yazınız."
      ]
    },
    {
      "cell_type": "code",
      "execution_count": 43,
      "metadata": {
        "id": "VxbxzQXdK1aX",
        "colab": {
          "base_uri": "https://localhost:8080/"
        },
        "outputId": "0151a999-ad90-4eea-da8d-305b541015db"
      },
      "outputs": [
        {
          "output_type": "stream",
          "name": "stdout",
          "text": [
            "Birinci sayıyı girin: 84\n",
            "İkinci sayıyı girin: 13\n",
            "13 ile 84 arasındaki asal sayılar: [13, 17, 19, 23, 29, 31, 37, 41, 43, 47, 53, 59, 61, 67, 71, 73, 79, 83]\n"
          ]
        }
      ],
      "source": [
        "# 2.Problemin Çözümünü Buraya Yazınız\n",
        "def asal_mi(num):\n",
        "    if num < 2:\n",
        "        return False\n",
        "    for i in range(2, int(num ** 0.5) + 1):\n",
        "        if num % i == 0:\n",
        "            return False\n",
        "    return True\n",
        "\n",
        "def iki_sayi_arasindaki_asallar(sayi1, sayi2):\n",
        "    asal_sayilar = []\n",
        "    for num in range(sayi1, sayi2 + 1):\n",
        "        if asal_mi(num):\n",
        "            asal_sayilar.append(num)\n",
        "    return asal_sayilar\n",
        "\n",
        "sayi1 = int(input(\"Birinci sayıyı girin: \"))\n",
        "sayi2 = int(input(\"İkinci sayıyı girin: \"))\n",
        "\n",
        "if sayi1 > sayi2:\n",
        "    sayi1, sayi2 = sayi2, sayi1\n",
        "\n",
        "asal_sayilar = iki_sayi_arasindaki_asallar(sayi1, sayi2)\n",
        "\n",
        "print(f\"{sayi1} ile {sayi2} arasındaki asal sayılar: {asal_sayilar}\")\n"
      ]
    },
    {
      "cell_type": "markdown",
      "metadata": {
        "id": "OqbcX2FPK1aY"
      },
      "source": [
        "# Problem 3\n",
        "YetGen liderlerinin kurdukları girişim unicorn oluyor. YetGen liderleri iş arkadaşlarının alacağı ücretlerini hesaplamak için bir fonksiyon yazdılar. Bu fonksiyonu kullanarak, YetGen liderlerinin iş arkadaşlarına verecekleri ücretleri hesaplayınız.\n",
        "\n",
        "Ücret hesaplanması çalışma saatine bağlıdır. Bunun için kullanıcıdan çalışma saati bilgisinn alın. Sonrasında yapılacak ödemenin hesaplanacağı computePay() adlı bir fonksiyon oluşturun. Bu fonksiyonun içinde işlemler yapın. Çalışma saati 40 ve altındaysa saat başına ücret 10 TL’dir. 40 saatin üstünde çalışıldıysa saat başına ücret 15 TL sayılmaktadır.\n",
        "\n",
        "```\n",
        "Test etmek için 30 saat değerini giriniz,  sonuç 300 TL çıkmalı,\n",
        "ikincil test olarak 50 değerini giriniz,  sonuç 750 TL çıkmalı.\n",
        "```"
      ]
    },
    {
      "cell_type": "code",
      "execution_count": 44,
      "metadata": {
        "id": "Uhg6Gcc1K1aZ",
        "colab": {
          "base_uri": "https://localhost:8080/"
        },
        "outputId": "b0bbb27f-4ebe-4cbc-80f1-4521c40f1ecb"
      },
      "outputs": [
        {
          "output_type": "stream",
          "name": "stdout",
          "text": [
            "Çalışma saatinizi girin: 30\n",
            "Çalışma saatiniz: 30.0, Alacağınız ücret: 300.0 TL\n"
          ]
        }
      ],
      "source": [
        "# 3.Problemin Çözümünü Buraya Yazınız\n",
        "def computePay(calisma_saati):\n",
        "    if calisma_saati <= 40:\n",
        "        ucret = calisma_saati * 10\n",
        "    else:\n",
        "        fazla_saat = calisma_saati - 40\n",
        "        ucret = (40 * 10) + (fazla_saat * 15)\n",
        "    return ucret\n",
        "calisma_saati = float(input(\"Çalışma saatinizi girin: \"))\n",
        "\n",
        "ucret = computePay(calisma_saati)\n",
        "\n",
        "print(f\"Çalışma saatiniz: {calisma_saati}, Alacağınız ücret: {ucret} TL\")\n",
        "\n"
      ]
    },
    {
      "cell_type": "markdown",
      "metadata": {
        "id": "V0BeBR90K1aZ"
      },
      "source": [
        "# Problem 4\n",
        "YetGenliler zirveye gitmek için toplanıyor. Zirveye gitmek için kiraladıkları araçlar 4'er kişiliktir. Gelecek kişi sayısı için Airtable üzerinde form açılıyor. Gelecek kişi sayısını alıp dört kişilik araçlara bölüp kalan kişi sayısını döndüren bir fonksiyon yazınız."
      ]
    },
    {
      "cell_type": "code",
      "execution_count": 45,
      "metadata": {
        "id": "AC8x-EQlK1aa",
        "colab": {
          "base_uri": "https://localhost:8080/"
        },
        "outputId": "51077e4f-1aaf-4c86-ca34-fcbcb1faf06d"
      },
      "outputs": [
        {
          "output_type": "stream",
          "name": "stdout",
          "text": [
            "Gelecek kişi sayısını girin: 4\n",
            "Gelecek kişi sayısı: 4, Artan kişi sayısı: 0\n"
          ]
        }
      ],
      "source": [
        "# 4.Problemin Çözümünü Buraya Yazınız\n",
        "def kalanKisiSayisi(gelecek_kisi_sayisi):\n",
        "    arac_kapasitesi = 4\n",
        "    kalan_kisi = gelecek_kisi_sayisi % arac_kapasitesi\n",
        "    return kalan_kisi\n",
        "\n",
        "gelecek_kisi_sayisi = int(input(\"Gelecek kişi sayısını girin: \"))\n",
        "\n",
        "kalan_kisi = kalanKisiSayisi(gelecek_kisi_sayisi)\n",
        "\n",
        "print(f\"Gelecek kişi sayısı: {gelecek_kisi_sayisi}, Artan kişi sayısı: {kalan_kisi}\")\n"
      ]
    },
    {
      "cell_type": "markdown",
      "metadata": {
        "id": "dWcDwEVjK1ab"
      },
      "source": [
        "# Problem 5\n",
        "sayiTopla() adında bir fonksiyon yazın. sayiTopla() fonksiyonu girilen sayıları toplayarak yazdırmasını sağlayan bir fonksiyon yazınız.\n",
        "\n",
        "Örneğin sayiTopla(1,2,3,4,5) yazdığımızda 15 çıktısını almalıyız. sayiTopla(1,2,3,4,5,6,7,8,9,10) yazdığımızda 55 çıktısını almalıyız."
      ]
    },
    {
      "cell_type": "code",
      "execution_count": 47,
      "metadata": {
        "id": "fmCZcLM2K1ad",
        "colab": {
          "base_uri": "https://localhost:8080/"
        },
        "outputId": "8bdd92fe-b11a-4ca4-8c21-c1e7e02ee7ee"
      },
      "outputs": [
        {
          "output_type": "stream",
          "name": "stdout",
          "text": [
            "Lütfen toplamak istediğiniz sayıları aralarına virgül koyarak girin: 1,2,3,4,5\n",
            "Girilen sayıların toplamı: 15\n"
          ]
        }
      ],
      "source": [
        "# 5.Problemin Çözümünü Buraya Yazınız\n",
        "def sayiTopla():\n",
        "    sayilar = input(\"Lütfen toplamak istediğiniz sayıları aralarına virgül koyarak girin: \")\n",
        "    sayi_listesi = [int(sayi) for sayi in sayilar.split(',')]\n",
        "    toplam = sum(sayi_listesi)\n",
        "    print(\"Girilen sayıların toplamı:\", toplam)\n",
        "\n",
        "sayiTopla()\n"
      ]
    },
    {
      "cell_type": "markdown",
      "metadata": {
        "id": "kd9edMkoK1ae"
      },
      "source": [
        "# Problem 6\n",
        "\n",
        "[(\"xxx\",1),(\"xxx\",2),(\"xxx\",9),(\"xxx\",3), (\"xxx\",1),(\"xxx\",13),(\"xxx\",26),(\"xxx\",4)] listesi içerisinde verilen elemanların her birini tuple içindeki 2. Elemana göre sıralayınız.\n",
        "\n"
      ]
    },
    {
      "cell_type": "code",
      "execution_count": 48,
      "metadata": {
        "id": "Jk4tgaH3K1af",
        "colab": {
          "base_uri": "https://localhost:8080/"
        },
        "outputId": "ab724aca-bd90-4b16-aa7e-788544ac65b0"
      },
      "outputs": [
        {
          "output_type": "stream",
          "name": "stdout",
          "text": [
            "[('xxx', 1), ('xxx', 1), ('xxx', 2), ('xxx', 3), ('xxx', 4), ('xxx', 9), ('xxx', 13), ('xxx', 26)]\n"
          ]
        }
      ],
      "source": [
        "# 6.Problemin Çözümünü Buraya Yazınız\n",
        "liste = [(\"xxx\", 1), (\"xxx\", 2), (\"xxx\", 9), (\"xxx\", 3), (\"xxx\", 1), (\"xxx\", 13), (\"xxx\", 26), (\"xxx\", 4)]\n",
        "\n",
        "liste_sirali = sorted(liste, key=lambda x: x[1])\n",
        "\n",
        "print(liste_sirali)\n"
      ]
    },
    {
      "cell_type": "markdown",
      "metadata": {
        "id": "V0yKbDraK1af"
      },
      "source": [
        "# Problem 7\n",
        "List comprehension kullanarak 1'den 100'e kadar olan sayılardan sadece çift sayıları bir listeye atmayı yapmayı çalışın."
      ]
    },
    {
      "cell_type": "code",
      "execution_count": 51,
      "metadata": {
        "id": "iHosmISJK1ag",
        "colab": {
          "base_uri": "https://localhost:8080/"
        },
        "outputId": "12084451-2821-4d98-f6c8-512de9500eb1"
      },
      "outputs": [
        {
          "output_type": "stream",
          "name": "stdout",
          "text": [
            "[2, 4, 6, 8, 10, 12, 14, 16, 18, 20, 22, 24, 26, 28, 30, 32, 34, 36, 38, 40, 42, 44, 46, 48, 50, 52, 54, 56, 58, 60, 62, 64, 66, 68, 70, 72, 74, 76, 78, 80, 82, 84, 86, 88, 90, 92, 94, 96, 98, 100]\n"
          ]
        }
      ],
      "source": [
        "# 7.Problemin Çözümünü Buraya Yazınız\n",
        "cift_sayilar = [num for num in range(1, 101) if num % 2 == 0]\n",
        "print(cift_sayilar)\n"
      ]
    }
  ],
  "metadata": {
    "kernelspec": {
      "display_name": "Python 3.10.5 64-bit",
      "language": "python",
      "name": "python3"
    },
    "language_info": {
      "name": "python",
      "version": "3.10.5"
    },
    "orig_nbformat": 4,
    "vscode": {
      "interpreter": {
        "hash": "5026d2d6e7aaaaba093def813beadff083d8733e4a511af01735cbabd156995d"
      }
    },
    "colab": {
      "provenance": []
    }
  },
  "nbformat": 4,
  "nbformat_minor": 0
}