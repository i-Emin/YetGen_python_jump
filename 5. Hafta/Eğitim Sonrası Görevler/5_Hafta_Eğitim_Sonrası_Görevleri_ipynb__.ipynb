{
  "cells": [
    {
      "cell_type": "markdown",
      "metadata": {
        "id": "Rm1DKmXZM-Ja"
      },
      "source": [
        "# Problem 1\n",
        "\n",
        "Fizikte, bir nesnenin sabit ivmeyle hareket ederken son hızını\n",
        "(veya hızını) bulmak için aşağıdaki denklem kullanılabilir:\n",
        "```\n",
        "vf = vi + at\n",
        "burada:\n",
        "vf= son hız\n",
        "vi= ilk hız\n",
        "a= hızlanma\n",
        "t= zaman\n",
        "```\n",
        "İlk hız, ivme ve zaman verildiğinde, son hızı döndürecek bir fonksiyon yazın."
      ]
    },
    {
      "cell_type": "code",
      "execution_count": 3,
      "metadata": {
        "id": "vWrjJiV0M-Jk",
        "colab": {
          "base_uri": "https://localhost:8080/"
        },
        "outputId": "1aaa5ff0-b0f9-4d51-fb2f-6b56ced9507f"
      },
      "outputs": [
        {
          "output_type": "stream",
          "name": "stdout",
          "text": [
            "İlk hızı girin (m/s): 41\n",
            "Hızlanmayı girin (m/s^2): 58\n",
            "Zamanı girin (s): 44\n",
            "Son hız: 2593.0 m/s\n"
          ]
        }
      ],
      "source": [
        "# 1.Problemin Çözümünü Buraya Yazınız\n",
        "def son_hiz(vi, a, t):\n",
        "    vf = vi + a * t\n",
        "    return vf\n",
        "\n",
        "vi = float(input(\"İlk hızı girin (m/s): \"))   # İlk hız (m/s)\n",
        "a = float(input(\"Hızlanmayı girin (m/s^2): \")) # Hızlanma (m/s^2)\n",
        "t = float(input(\"Zamanı girin (s): \"))         # Zaman (s)\n",
        "\n",
        "vf = son_hiz(vi, a, t)\n",
        "\n",
        "print(\"Son hız:\", vf, \"m/s\")\n",
        "\n"
      ]
    },
    {
      "cell_type": "markdown",
      "metadata": {
        "id": "uAHpyY5HM-Jq"
      },
      "source": [
        "# Problem 2\n",
        "\n",
        "1'den 1000'e kadar olan sayılardan mükemmel sayı olanları ekrana yazdırın. Bunun için bir sayının mükemmel olup olmadığını dönen bir tane fonksiyon yazın.\n",
        "\n",
        "Bir sayının bölenlerinin toplamı kendine eşitse bu sayı mükemmel bir sayıdır. Örnek olarak 6 mükemmel bir sayıdır (1 + 2 + 3 = 6)."
      ]
    },
    {
      "cell_type": "code",
      "execution_count": 4,
      "metadata": {
        "id": "yrY4Y5ncM-Jr",
        "colab": {
          "base_uri": "https://localhost:8080/"
        },
        "outputId": "63af7743-9a3b-46e9-fc09-2315780b0cc4"
      },
      "outputs": [
        {
          "output_type": "stream",
          "name": "stdout",
          "text": [
            "6\n",
            "28\n",
            "496\n"
          ]
        }
      ],
      "source": [
        "# 2.Problemin Çözümünü Buraya Yazınız\n",
        "def mukemmel_sayi_mi(sayi):\n",
        "    toplam = 0\n",
        "    for i in range(1, sayi):\n",
        "        if sayi % i == 0:\n",
        "            toplam += i\n",
        "    return toplam == sayi\n",
        "\n",
        "for sayi in range(1, 1001):\n",
        "    if mukemmel_sayi_mi(sayi):\n",
        "        print(sayi)\n"
      ]
    },
    {
      "cell_type": "markdown",
      "metadata": {
        "id": "C2-XwlJtM-Jr"
      },
      "source": [
        "# Problem 3\n",
        "\n",
        "1'den 100'e kadar olan sayılardan pisagor üçgeni oluşturanları ekrana yazdıran bir fonksiyon yazın.(a <= 100,b <= 100)\n"
      ]
    },
    {
      "cell_type": "code",
      "execution_count": 5,
      "metadata": {
        "id": "BMNy4xi-M-Js",
        "colab": {
          "base_uri": "https://localhost:8080/"
        },
        "outputId": "7d77b7cb-8a31-489e-e91c-6f1242c99d2d"
      },
      "outputs": [
        {
          "output_type": "stream",
          "name": "stdout",
          "text": [
            "3, 4, 5\n",
            "5, 12, 13\n",
            "6, 8, 10\n",
            "7, 24, 25\n",
            "8, 15, 17\n",
            "9, 12, 15\n",
            "9, 40, 41\n",
            "10, 24, 26\n",
            "11, 60, 61\n",
            "12, 16, 20\n",
            "12, 35, 37\n",
            "13, 84, 85\n",
            "14, 48, 50\n",
            "15, 20, 25\n",
            "15, 36, 39\n",
            "16, 30, 34\n",
            "16, 63, 65\n",
            "18, 24, 30\n",
            "18, 80, 82\n",
            "20, 21, 29\n",
            "20, 48, 52\n",
            "21, 28, 35\n",
            "21, 72, 75\n",
            "24, 32, 40\n",
            "24, 45, 51\n",
            "24, 70, 74\n",
            "25, 60, 65\n",
            "27, 36, 45\n",
            "28, 45, 53\n",
            "28, 96, 100\n",
            "30, 40, 50\n",
            "30, 72, 78\n",
            "32, 60, 68\n",
            "33, 44, 55\n",
            "33, 56, 65\n",
            "35, 84, 91\n",
            "36, 48, 60\n",
            "36, 77, 85\n",
            "39, 52, 65\n",
            "39, 80, 89\n",
            "40, 42, 58\n",
            "40, 75, 85\n",
            "42, 56, 70\n",
            "45, 60, 75\n",
            "48, 55, 73\n",
            "48, 64, 80\n",
            "51, 68, 85\n",
            "54, 72, 90\n",
            "57, 76, 95\n",
            "60, 63, 87\n",
            "60, 80, 100\n",
            "65, 72, 97\n"
          ]
        }
      ],
      "source": [
        "# 3.Problemin Çözümünü Buraya Yazınız\n",
        "def pisagor_ucgeni():\n",
        "    for a in range(1, 101):\n",
        "        for b in range(a, 101):\n",
        "            c_kare = a**2 + b**2\n",
        "            c = int(c_kare**0.5)\n",
        "            if c**2 == c_kare and c <= 100:\n",
        "                print(f\"{a}, {b}, {c}\")\n",
        "\n",
        "pisagor_ucgeni()\n"
      ]
    },
    {
      "cell_type": "markdown",
      "metadata": {
        "id": "oPfmWi4jM-Js"
      },
      "source": [
        "# Problem 4\n",
        "\n",
        "Bir duvar boyamaya karar verdiniz. Boya kutusunun üzerindeki talimatta, 1 kutu boyanın 5 metrekarelik bir duvarı boyayabileceği yazıyor. Rastgele bir duvar yüksekliği ve genişliği verildiğinde, kaç kutu boya satın almanız gerektiğini hesaplayın.\n",
        "\n",
        "kutu sayısı = (duvar yüksekliği * duvar genişliği) ÷ kutu başına kaplama.\n",
        "\n",
        "örneğin Yükseklik = 2, Genişlik = 4, Kaplama = 5\n",
        "\n",
        "kutu sayısı = (2 * 4) ÷ 5 = 1.6\n",
        "\n",
        "Ancak bir kutu boyanın 0,6'sını satın alamayacağınız için, sonuç 2 kutuya yuvarlanmalıdır .\n"
      ]
    },
    {
      "cell_type": "code",
      "execution_count": 8,
      "metadata": {
        "id": "0zuyzSp5M-Jt",
        "colab": {
          "base_uri": "https://localhost:8080/"
        },
        "outputId": "b41c0d63-7945-4df0-bb14-6e6fa74eae26"
      },
      "outputs": [
        {
          "output_type": "stream",
          "name": "stdout",
          "text": [
            "Duvar yüksekliğini giriniz (metre): 2\n",
            "Duvar genişliğini giriniz (metre): 4\n",
            "Kutu başına kaplama (metre): 5\n",
            "Satın almanız gereken boya kutusu sayısı: 2\n"
          ]
        }
      ],
      "source": [
        "# 4.Problemin Çözümünü Buraya Yazınız\n",
        "def kac_kutu_boya_gerekir(duvar_yuksekligi, duvar_genisligi, kutu_basina_kaplama):\n",
        "    duvar_alani = duvar_yuksekligi * duvar_genisligi\n",
        "    kutu_sayisi = int((duvar_alani + kutu_basina_kaplama - 1) / kutu_basina_kaplama)\n",
        "    return kutu_sayisi\n",
        "\n",
        "duvar_yuksekligi = float(input(\"Duvar yüksekliğini giriniz (metre): \"))\n",
        "duvar_genisligi = float(input(\"Duvar genişliğini giriniz (metre): \"))\n",
        "kutu_basina_kaplama = float(input(\"Kutu başına kaplama (metre): \"))\n",
        "\n",
        "kutu_sayisi = kac_kutu_boya_gerekir(duvar_yuksekligi, duvar_genisligi, kutu_basina_kaplama)\n",
        "\n",
        "# Sonucu ekrana yazdıralım\n",
        "print(f\"Satın almanız gereken boya kutusu sayısı: {kutu_sayisi}\")\n"
      ]
    },
    {
      "cell_type": "markdown",
      "metadata": {
        "id": "pe6TJuBBM-Ju"
      },
      "source": [
        "# Problem 5\n",
        "\n",
        "Bir kelimedeki ünlü ve ünsüz harfleri sayan bir fonksiyon yazınız."
      ]
    },
    {
      "cell_type": "code",
      "execution_count": 9,
      "metadata": {
        "id": "LJ0opjiLM-Ju",
        "colab": {
          "base_uri": "https://localhost:8080/"
        },
        "outputId": "bd3167e9-e23c-43de-90da-999e615b8a67"
      },
      "outputs": [
        {
          "output_type": "stream",
          "name": "stdout",
          "text": [
            "Kelimeyi giriniz: mukavvemet\n",
            "Kelime 'mukavvemet' içindeki ünlü harf sayısı: 4\n",
            "Kelime 'mukavvemet' içindeki ünsüz harf sayısı: 6\n"
          ]
        }
      ],
      "source": [
        "# 5.Problemin Çözümünü Buraya Yazınız\n",
        "def unlu_unsuz_say(kelime):\n",
        "    unlu_harfler = \"aeıioöuüAEIİOÖUÜ\"\n",
        "    unlu_sayisi = 0\n",
        "    unsuz_sayisi = 0\n",
        "\n",
        "    for harf in kelime:\n",
        "        if harf.isalpha():\n",
        "            if harf in unlu_harfler:\n",
        "                unlu_sayisi += 1\n",
        "            else:\n",
        "                unsuz_sayisi += 1\n",
        "\n",
        "    return unlu_sayisi, unsuz_sayisi\n",
        "\n",
        "kelime = input(\"Kelimeyi giriniz: \")\n",
        "\n",
        "unlu_say, unsuz_say = unlu_unsuz_say(kelime)\n",
        "\n",
        "print(f\"Kelime '{kelime}' içindeki ünlü harf sayısı: {unlu_say}\")\n",
        "print(f\"Kelime '{kelime}' içindeki ünsüz harf sayısı: {unsuz_say}\")"
      ]
    },
    {
      "cell_type": "markdown",
      "metadata": {
        "id": "Lfls2YTXM-Jv"
      },
      "source": [
        "# Problem 6\n",
        "\n",
        "Verilen bir listeden çift sayıları yazdıran bir fonksiyon yazınız.\n"
      ]
    },
    {
      "cell_type": "code",
      "execution_count": 11,
      "metadata": {
        "id": "qUwsL20IM-Jv"
      },
      "outputs": [],
      "source": [
        "# 6.Problemin Çözümünü Buraya Yazınız\n",
        "def cift_sayilari_yazdir(liste):\n",
        "    for sayi in liste:\n",
        "        if sayi % 2 == 0:\n",
        "            print(sayi)"
      ]
    },
    {
      "cell_type": "markdown",
      "metadata": {
        "id": "IPp724iIM-Jy"
      },
      "source": [
        "# Problem 7\n",
        "\n",
        "0'dan 10'a kadar olan sayıların toplamını hesaplayan özyinelemeli (Recursive Function) bir fonksiyon oluşturan bir fonksiyon yazınız.\n",
        "\n",
        "Özyinelemeli (Recursive Function) bir işlev, kendini tekrar tekrar çağıran bir işlevdir."
      ]
    },
    {
      "cell_type": "code",
      "execution_count": 13,
      "metadata": {
        "id": "KFW6xhTJM-Jz",
        "colab": {
          "base_uri": "https://localhost:8080/"
        },
        "outputId": "6cae8623-e10e-4a75-8f69-5c7608d92942"
      },
      "outputs": [
        {
          "output_type": "stream",
          "name": "stdout",
          "text": [
            "0'dan 10'a kadar olan sayıların toplamı: 55\n"
          ]
        }
      ],
      "source": [
        "# 7.Problemin Çözümünü Buraya Yazınız\n",
        "def toplam_hesapla(n):\n",
        "    if n == 0:\n",
        "        return 0\n",
        "    else:\n",
        "        return n + toplam_hesapla(n - 1)\n",
        "\n",
        "toplam = toplam_hesapla(10)\n",
        "print(\"0'dan 10'a kadar olan sayıların toplamı:\", toplam)\n"
      ]
    }
  ],
  "metadata": {
    "kernelspec": {
      "display_name": "Python 3.10.5 64-bit",
      "language": "python",
      "name": "python3"
    },
    "language_info": {
      "name": "python",
      "version": "3.10.5"
    },
    "orig_nbformat": 4,
    "vscode": {
      "interpreter": {
        "hash": "5026d2d6e7aaaaba093def813beadff083d8733e4a511af01735cbabd156995d"
      }
    },
    "colab": {
      "provenance": []
    }
  },
  "nbformat": 4,
  "nbformat_minor": 0
}