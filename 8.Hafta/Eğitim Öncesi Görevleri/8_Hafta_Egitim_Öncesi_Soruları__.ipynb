{
  "cells": [
    {
      "cell_type": "markdown",
      "metadata": {
        "id": "Pzh44PAE5H61"
      },
      "source": [
        "# Problem 1\n",
        "Kullanıcıdan aldığı ürün bilgisini (ad, fiyat) urunler.txt dosyasına kayıt eden fonksiyonu yazınız."
      ]
    },
    {
      "cell_type": "code",
      "execution_count": 1,
      "metadata": {
        "id": "uKw3Wap95H64",
        "colab": {
          "base_uri": "https://localhost:8080/"
        },
        "outputId": "7f105aaa-72a3-4d80-f2a1-25a65a103495"
      },
      "outputs": [
        {
          "output_type": "stream",
          "name": "stdout",
          "text": [
            "Ürün adını girin: Makarna\n",
            "Ürün fiyatını girin: 12.75\n",
            "Makarna adlı ürün, 12.75 TL fiyatı ile dosyaya kaydedildi.\n"
          ]
        }
      ],
      "source": [
        "# 1.Problemin Çözümünü Buraya Yazınız\n",
        "def urun_kaydet():\n",
        "    urun_ad = input(\"Ürün adını girin: \")\n",
        "    urun_fiyat = input(\"Ürün fiyatını girin: \")\n",
        "\n",
        "    with open(\"urunler.txt\", \"a\") as dosya:\n",
        "        dosya.write(f\"Ürün Adı: {urun_ad}, Fiyat: {urun_fiyat}\\n\")\n",
        "\n",
        "    print(f\"{urun_ad} adlı ürün, {urun_fiyat} TL fiyatı ile dosyaya kaydedildi.\")\n",
        "\n",
        "urun_kaydet()\n"
      ]
    },
    {
      "cell_type": "markdown",
      "metadata": {
        "id": "Lw7xy19D5H66"
      },
      "source": [
        "# Problem 2\n",
        "1.problemde oluşturulan text dosyası içerisinde kullanıcıdan alacağımız eski kelime isimli değişkene atadığımız\n",
        "ve değiştirilmesini istediğimiz kelimemizi yerini alıcak olan yeni kelime isimli değişkene atayın. Belirlenen kelimeleri text dosyasında değiştiren fonksiyonu yazınız."
      ]
    },
    {
      "cell_type": "code",
      "execution_count": 2,
      "metadata": {
        "id": "jDlym3ko5H66",
        "colab": {
          "base_uri": "https://localhost:8080/"
        },
        "outputId": "9f736822-2e12-4400-c34a-6871b1f11e90"
      },
      "outputs": [
        {
          "output_type": "stream",
          "name": "stdout",
          "text": [
            "Değiştirmek istediğiniz kelimeyi girin: Makarna\n",
            "Yeni kelimeyi girin: Spagetti\n",
            "Makarna kelimesi Spagetti kelimesi ile değiştirildi.\n"
          ]
        }
      ],
      "source": [
        "# 2.Problemin Çözümünü Buraya Yazınız\n",
        "def kelime_degistir():\n",
        "    eski_kelime = input(\"Değiştirmek istediğiniz kelimeyi girin: \")\n",
        "    yeni_kelime = input(\"Yeni kelimeyi girin: \")\n",
        "\n",
        "    with open(\"urunler.txt\", \"r\") as dosya:\n",
        "        icerik = dosya.read()\n",
        "\n",
        "    yeni_icerik = icerik.replace(eski_kelime, yeni_kelime)\n",
        "\n",
        "    with open(\"urunler.txt\", \"w\") as dosya:\n",
        "        dosya.write(yeni_icerik)\n",
        "\n",
        "    print(f\"{eski_kelime} kelimesi {yeni_kelime} kelimesi ile değiştirildi.\")\n",
        "\n",
        "kelime_degistir()\n"
      ]
    },
    {
      "cell_type": "markdown",
      "metadata": {
        "id": "3aSYk4FF5H67"
      },
      "source": [
        "# Problem 3\n",
        "Vehicle sınıfının tüm değişkenlerini ve yöntemlerini devralacak bir alt sınıf olarak Bus sınıfı oluşturunuz.\n",
        "\n",
        "\n",
        "\n",
        "```\n",
        "Output\n",
        "> Name: School Volvo Speed: 180 Mileage: 12\n",
        "```\n"
      ]
    },
    {
      "cell_type": "code",
      "execution_count": 3,
      "metadata": {
        "id": "PwCI6Xkb5H68",
        "colab": {
          "base_uri": "https://localhost:8080/"
        },
        "outputId": "fe98e2ef-3039-4bc6-b583-3662a4dac57d"
      },
      "outputs": [
        {
          "output_type": "stream",
          "name": "stdout",
          "text": [
            "Name: School Volvo Speed: 180 Mileage: 12\n"
          ]
        }
      ],
      "source": [
        "# 3.Problemin Çözümünü Buraya Yazınız\n",
        "class Vehicle:\n",
        "    def __init__(self, name, speed, mileage):\n",
        "        self.name = name\n",
        "        self.speed = speed\n",
        "        self.mileage = mileage\n",
        "\n",
        "    def display_info(self):\n",
        "        print(f\"Name: {self.name} Speed: {self.speed} Mileage: {self.mileage}\")\n",
        "\n",
        "class Bus(Vehicle):\n",
        "    pass\n",
        "\n",
        "bus1 = Bus(\"School Volvo\", 180, 12)\n",
        "bus1.display_info()\n"
      ]
    }
  ],
  "metadata": {
    "kernelspec": {
      "display_name": "Python 3",
      "language": "python",
      "name": "python3"
    },
    "language_info": {
      "codemirror_mode": {
        "name": "ipython",
        "version": 3
      },
      "file_extension": ".py",
      "mimetype": "text/x-python",
      "name": "python",
      "nbconvert_exporter": "python",
      "pygments_lexer": "ipython3",
      "version": "3.10.5"
    },
    "orig_nbformat": 4,
    "vscode": {
      "interpreter": {
        "hash": "5026d2d6e7aaaaba093def813beadff083d8733e4a511af01735cbabd156995d"
      }
    },
    "colab": {
      "provenance": []
    }
  },
  "nbformat": 4,
  "nbformat_minor": 0
}