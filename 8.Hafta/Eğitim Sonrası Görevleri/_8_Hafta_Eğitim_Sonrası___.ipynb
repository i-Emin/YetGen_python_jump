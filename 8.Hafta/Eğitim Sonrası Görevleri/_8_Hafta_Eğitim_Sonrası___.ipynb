{
  "cells": [
    {
      "cell_type": "markdown",
      "metadata": {
        "id": "YiGf1vdik6g1"
      },
      "source": [
        "# Problem 1\n",
        "\n",
        "Şimdi beraber kullanıcılardan aldığımız verileri işleyerek, onlara hem çıktı verecek, hem de aldığımız ve hesapladığımız verileri ileride kullanabilmek adına kaydedeceğiz.\n",
        "\n",
        "\n",
        " **Bu bir veri giriş platformu olacak**\n",
        "\n",
        "\n",
        " * kullanıcıya kaç giriş yapacağını soracağız\n",
        "* kullanıcıdan isim-soyisim, yaş, boy, kilo bilgilerini alarak VKİ hesaplayacağız\n",
        "* ardından bunları sınıflara göre kaydedeceğiz bir dosyaya kaydedeceğiz\n",
        "\n",
        "\n",
        "Sınıflar ise şu şekilde:\n",
        "* 18, 5 kg/m.'nin altında olanlar: Zayıf\n",
        "* 18.5 – 24, 9 kg/m. arasında olanlar: Normal kilolu\n",
        "* 25 – 29, 9 kg/m. arasında olanlar: Fazla kilolu\n",
        "* 30 – 39, 9 kg/m. arasında olanlar: Obez\n",
        "* 40 kg/m.'nin üzerinde olanlar: İleri derecede obez (morbid obez), olarak görülür."
      ]
    },
    {
      "cell_type": "code",
      "execution_count": 2,
      "metadata": {
        "colab": {
          "base_uri": "https://localhost:8080/"
        },
        "id": "fEXXVz5Flnef",
        "outputId": "d04bfc45-6d23-4387-f060-59d224eb3369"
      },
      "outputs": [
        {
          "output_type": "stream",
          "name": "stdout",
          "text": [
            "Kaç kere giriş yapacaksınız?2\n",
            "kullanıcı kaydı 1\n",
            "isim soyisim: i.E\n",
            "yas: 22\n",
            "kilo (kg): 77\n",
            "boy (m): 177\n",
            "kullanıcı kaydedildi.\n",
            "kullanıcı kaydı 2\n",
            "isim soyisim: M.S\n",
            "yas: 9\n",
            "kilo (kg): 47\n",
            "boy (m): 159\n",
            "kullanıcı kaydedildi.\n",
            "kaç kullanıcı verisi gireceksiniz?: 2\n",
            "kullanıcı kaydı 1\n",
            "isim soyisim: İ.E\n",
            "yas: 22\n",
            "kilo (kg): 78\n",
            "boy (m): 177\n",
            "kullanıcı kaydedildi.\n",
            "kullanıcı kaydı 2\n",
            "isim soyisim: M.S\n",
            "yas: 9\n",
            "kilo (kg): 49\n",
            "boy (m): 159\n",
            "kullanıcı kaydedildi.\n",
            "veriler 'saglık.txt' dosyasına kaydedildi.\n",
            " \n"
          ]
        }
      ],
      "source": [
        "import time\n",
        "\n",
        "giris_sayisi = int(input(\"Kaç kere giriş yapacaksınız?\"))\n",
        "\n",
        "def bilgi_al():\n",
        "    isim = input(\"isim soyisim: \")\n",
        "    yas = int(input(\"yas: \"))\n",
        "    kilo = float(input(\"kilo (kg): \"))\n",
        "    boy = float(input(\"boy (m): \"))\n",
        "    return isim, yas, kilo, boy\n",
        "\n",
        "def vki_hesapla(kilo, boy):\n",
        "    return kilo / (boy**2)\n",
        "\n",
        "def deger_hesapla(vki):\n",
        "    if vki < 18.5:\n",
        "        return  (\"zayıf\")\n",
        "    elif vki<=24.9:\n",
        "        return (\"normal kilolu\")\n",
        "    elif vki<=29.9:\n",
        "        return \"fazla kilolu\"\n",
        "    elif vki<=39.9:\n",
        "        return \"obez\"\n",
        "    elif vki>40:\n",
        "        return  (\"ileri obez\")\n",
        "\n",
        "def output(isim, yas, kilo, boy, vki, deger, kayit_tarihi):\n",
        "    t1 = f\"kullanici adi {isim}\"\n",
        "    t2 = f\"kullanıcının yas, kilo, boy bilgisi {yas},{kilo},{boy}\"\n",
        "    t3= f\"kullanıcın vkisi {vki}\"\n",
        "    t4 = f\"değer aralığı {deger}\"\n",
        "    t5 = f\"oluşturma tarihi: {kayit_tarihi}\"\n",
        "    return (t1 + \"\\n\" + t2 +\"\\n\" + t3 + \"\\n\"+t4 +\"\\n\"+ t5)\n",
        "\n",
        "for i in range(giris_sayisi):\n",
        "    print(f\"kullanıcı kaydı {i+1}\")\n",
        "    isim, yas, kilo, boy = bilgi_al()\n",
        "    vki = vki_hesapla(kilo, boy)\n",
        "    deger = deger_hesapla(vki)\n",
        "    kayit_tarihi = time.ctime(time.time())\n",
        "    output_1 = output(isim, yas, kilo, boy, vki, deger, kayit_tarihi)\n",
        "    with open(\"saglık.txt\", \"a\") as f:\n",
        "          f.write(output_1)\n",
        "          f.write(\"*\"*20)\n",
        "          f.write(\"\\n\")\n",
        "          print(\"kullanıcı kaydedildi.\")\n",
        "\n",
        "import time\n",
        "def vki_hesaplama(kilo, boy):\n",
        "  vki= kilo/(boy**2)\n",
        "  return round(vki,1)\n",
        "def deger_araligi(vki):\n",
        "  if vki< 18.5:\n",
        "    return \"zayıf\"\n",
        "  elif vki<=24.9:\n",
        "    return \"normal kilolu\"\n",
        "  elif vki<= 29.9:\n",
        "    return \"fazla kilolu\"\n",
        "  elif vki<=39.9:\n",
        "    return \"obez\"\n",
        "  elif vki>=40:\n",
        "    return \"ileri obez\"\n",
        "def cikti_olustur(isim, yas, kilo,boy,vki, deger):\n",
        "  kayit_tarihi= time.ctime(time.time())\n",
        "  t1 = f\"kullanici adi {isim}\\n\"\n",
        "  t2 = f\"kullanıcının yas, kilo, boy bilgisi {yas}, {kilo},{boy}\\n\"\n",
        "  t3 = f\"kullanıcın vücut kitle indexi {vki}\\n\"\n",
        "  t4 = f\"değer aralığı {deger}\\n\"\n",
        "  t5 = f\"oluşturma tarihi: {kayit_tarihi}\\n\"\n",
        "  output= t1 + t2 + t3 + t4 + t5\n",
        "  return output\n",
        "def main():\n",
        "    giris_sayisi= int(input(\"kaç kullanıcı verisi gireceksiniz?: \"))\n",
        "    for i in range(giris_sayisi):\n",
        "        print(f\"kullanıcı kaydı {i+1}\")\n",
        "        isim = input(\"isim soyisim: \")\n",
        "        yas = int(input(\"yas: \"))\n",
        "        kilo = float(input(\"kilo (kg): \"))\n",
        "        boy = float(input(\"boy (m): \"))\n",
        "        vki= vki_hesaplama(kilo, boy)\n",
        "        deger = deger_araligi(vki)\n",
        "        output = cikti_olustur(isim, yas, kilo,boy,vki, deger)\n",
        "        with open(\"saglık.txt\", \"a\") as f:\n",
        "          f.write(output)\n",
        "          f.write(\"*\"*20)\n",
        "          f.write(\"\\n\")\n",
        "          print (\"kullanıcı kaydedildi.\")\n",
        "    print(\"veriler 'saglık.txt' dosyasına kaydedildi.\\n \")\n",
        "main()"
      ]
    },
    {
      "cell_type": "code",
      "execution_count": null,
      "metadata": {
        "id": "-4WJNSdH_vUT"
      },
      "outputs": [],
      "source": []
    },
    {
      "cell_type": "markdown",
      "metadata": {
        "id": "pDPDPM7Yk6g6"
      },
      "source": [
        "# Problem 2\n",
        "**YetBar - Smoothie Bank**\n",
        "---\n",
        "YetBar spor salonunun girişinde bulunan, insansız bir sağlıklı içecek otomatıdır. Kullanıcı çeşitli girdiler smoothie içeceğine koyacağı ürünleri belirleyebilir, fiyat hesaplaması yaptırabilir ya da sadece menüyü görüntüleyebilir.\n",
        "\n",
        "**Projenin Amacı:**\n",
        "\n",
        "*   Birbirini etkileyen ve bir kod içerisinde birden fazla defa başvurulacak fonksiyonların oluşturulup, \"fonksiyonel\" proglamlamak.\n",
        "*   Büyük programları yazarken, yazılımcı olarak yapabileceğimiz hatalardan kaçınmak için kontrol yöntemleri geliştirmek.\n",
        "*   Kullanıcı inputlarını ve yaptığımız hesapları, raporlamak/loglamak amacıyla kaydetmek.\n",
        "\n",
        "**Programdan Beklenen Çıktılar**\n",
        "* Program kullanıcıya temelde 2 farklı işlem yapma imkanı sağlar.\n",
        "> 1. Menüyü görüntüleme\n",
        "> 3. Satın alma\n",
        "* Satın alınan her içecek tarih, fiyat bilgisi ile kaydedilmeli ve her zaman ulaşılabilir olmalıdır.\n",
        "\n",
        "\n"
      ]
    },
    {
      "cell_type": "code",
      "execution_count": null,
      "metadata": {
        "colab": {
          "base_uri": "https://localhost:8080/",
          "height": 780
        },
        "id": "MqXBwcpNmw7D",
        "outputId": "2be58248-c910-4775-874f-629f79312a88"
      },
      "outputs": [
        {
          "name": "stdout",
          "output_type": "stream",
          "text": [
            "Elmanın fiyatı:  0.5\n",
            "Kavunun fiyatı:  2.15\n"
          ]
        },
        {
          "ename": "AssertionError",
          "evalue": "Ürün adedi 0 ve 0'dan küçük olamaz.",
          "output_type": "error",
          "traceback": [
            "\u001b[0;31m---------------------------------------------------------------------------\u001b[0m",
            "\u001b[0;31mAssertionError\u001b[0m                            Traceback (most recent call last)",
            "Cell \u001b[0;32mIn[10], line 35\u001b[0m\n\u001b[1;32m     32\u001b[0m     \u001b[38;5;28;01melse\u001b[39;00m:\n\u001b[1;32m     33\u001b[0m         \u001b[38;5;28;01mreturn\u001b[39;00m menu[urun] \u001b[38;5;241m*\u001b[39m adet\n\u001b[0;32m---> 35\u001b[0m \u001b[43murun_fiyat_hesaplama\u001b[49m\u001b[43m(\u001b[49m\u001b[38;5;124;43m\"\u001b[39;49m\u001b[38;5;124;43melma\u001b[39;49m\u001b[38;5;124;43m\"\u001b[39;49m\u001b[43m,\u001b[49m\u001b[38;5;241;43m-\u001b[39;49m\u001b[38;5;241;43m5\u001b[39;49m\u001b[43m)\u001b[49m\n",
            "Cell \u001b[0;32mIn[10], line 28\u001b[0m, in \u001b[0;36murun_fiyat_hesaplama\u001b[0;34m(urun, adet)\u001b[0m\n\u001b[1;32m     27\u001b[0m \u001b[38;5;28;01mdef\u001b[39;00m \u001b[38;5;21murun_fiyat_hesaplama\u001b[39m(urun: \u001b[38;5;28mstr\u001b[39m, adet):\n\u001b[0;32m---> 28\u001b[0m     \u001b[38;5;28;01massert\u001b[39;00m adet \u001b[38;5;241m>\u001b[39m \u001b[38;5;241m0\u001b[39m , \u001b[38;5;124m\"\u001b[39m\u001b[38;5;124mÜrün adedi 0 ve 0\u001b[39m\u001b[38;5;124m'\u001b[39m\u001b[38;5;124mdan küçük olamaz.\u001b[39m\u001b[38;5;124m\"\u001b[39m\n\u001b[1;32m     30\u001b[0m     \u001b[38;5;28;01mif\u001b[39;00m urun\u001b[38;5;241m.\u001b[39mlower()  \u001b[38;5;129;01mnot\u001b[39;00m \u001b[38;5;129;01min\u001b[39;00m \u001b[38;5;28mlist\u001b[39m(menu\u001b[38;5;241m.\u001b[39mkeys()):\n\u001b[1;32m     31\u001b[0m         \u001b[38;5;28;01mreturn\u001b[39;00m \u001b[38;5;28;01mNone\u001b[39;00m\n",
            "\u001b[0;31mAssertionError\u001b[0m: Ürün adedi 0 ve 0'dan küçük olamaz."
          ]
        }
      ],
      "source": []
    },
    {
      "cell_type": "code",
      "execution_count": 5,
      "metadata": {
        "colab": {
          "base_uri": "https://localhost:8080/"
        },
        "id": "VVqS8Dxt_vUV",
        "outputId": "f8e5cb77-49d7-4447-b3aa-5fccd8ef5132"
      },
      "outputs": [
        {
          "output_type": "stream",
          "name": "stdout",
          "text": [
            "Elmanın fiyatı:  0.5\n",
            "Kavunun fiyatı:  2.15\n",
            "YetBar'a Hoş Geldiniz!\n",
            "Menüyü görüntülemek için '1'e, smoothie yapmak için lütfen '2'e basınız. Çıkmak için '0' giriniz.\n",
            "Tercihiniz: 1\n",
            "-----YETBAR MENU-----\n",
            "ELMA       : 0.5 TL\n",
            "ARMUT      : 0.75 TL\n",
            "UZUM       : 2.0 TL\n",
            "CILEK      : 1.75 TL\n",
            "MUZ        : 2.0 TL\n",
            "KAVUN      : 2.15 TL\n",
            "KARPUZ     : 1.99 TL\n",
            "Tercihiniz: 0\n",
            "Çıkış yapılıyor...\n",
            "Sağlıklı günler dileriz.\n"
          ]
        }
      ],
      "source": [
        "#@title Çözüm için acil durum kod göster butonuna basabilirsin :)\n",
        "import time\n",
        "menu = {\n",
        "    \"elma\":0.50,\n",
        "    \"armut\":0.75,\n",
        "    \"uzum\":2.,\n",
        "    \"cilek\":1.75,\n",
        "    \"muz\":2.,\n",
        "    \"kavun\":2.15,\n",
        "    \"karpuz\":1.99\n",
        "}\n",
        "print(\"Elmanın fiyatı: \", menu[\"elma\"])\n",
        "print(\"Kavunun fiyatı: \", menu[\"kavun\"])\n",
        "\n",
        "def display_menu():\n",
        "    print(\"-----YETBAR MENU-----\")\n",
        "    for item in list(menu.keys()):\n",
        "        print(f\"{item.upper():<10} : {menu[item]} TL\")\n",
        "def tek_urun_fiyat_hesaplama(urun, adet):\n",
        "    assert adet >  0 , \"Ürün adedi 0 ve 0'dan küçük olamaz.\"\n",
        "    if urun not in list(menu.keys()):\n",
        "        return None\n",
        "    else:\n",
        "        return  menu[urun] * adet\n",
        "def satin_alma():\n",
        "    display_menu()\n",
        "    print(\"Lütfen satın almak istediğiniz ürünü giriniz. Çıkış yapmak için '0'ı tuşlayınız.\")\n",
        "\n",
        "    satin_alinan_urunler = []\n",
        "    satin_alma_adedi = []\n",
        "    son_fiyat = 0\n",
        "    while 1:\n",
        "        eklenecek_urun = input(\"Hangi üründen eklemek istiyorsunuz? \")\n",
        "        if eklenecek_urun == \"0\":\n",
        "            print(\"Fiş kaydediliyor.\")\n",
        "            break\n",
        "        ekleme_adedi = int(input(\"Kaç adet eklemek istiyorsunuz? \"))\n",
        "        fiyat = tek_urun_fiyat_hesaplama(eklenecek_urun, ekleme_adedi)\n",
        "        if fiyat is None:\n",
        "            print(\"Yanlış bir giriş yaptınız, ürün eklenemedi.\")\n",
        "        else:\n",
        "            print(f\"Satın alma ücreti: {fiyat}.\\nSatın almayı onaylamak için 'y' iptal etmek için 'n' giriniz.\")\n",
        "            check = input(\"Satın almayı onaylıyor musunuz? \")\n",
        "            if check == \"y\":\n",
        "                print(\"Satın alım onaylandı.\")\n",
        "                print(\"-\"*40)\n",
        "                son_fiyat += fiyat\n",
        "                satin_alinan_urunler.append(eklenecek_urun)\n",
        "                satin_alma_adedi.append(ekleme_adedi)\n",
        "                print(f\"Ara Toplam: {son_fiyat}\")\n",
        "            elif check == \"n\":\n",
        "                print(\"Satın alma işlemi iptal edildi.\")\n",
        "                print(\"-\"*40)\n",
        "    return son_fiyat, satin_alinan_urunler, satin_alma_adedi\n",
        "def main():\n",
        "    print(\"YetBar'a Hoş Geldiniz!\\nMenüyü görüntülemek için '1'e, smoothie yapmak için lütfen '2'e basınız. Çıkmak için '0' giriniz.\")\n",
        "    program = None\n",
        "    while 1:\n",
        "        program = int(input(\"Tercihiniz: \"))\n",
        "        if program < 0 or program > 2:\n",
        "            print(\"Yanlış bir tercih yaptınız. Lütfen tekrar deneyiniz.\")\n",
        "        elif program == 0:\n",
        "            print(\"Çıkış yapılıyor...\\nSağlıklı günler dileriz.\")\n",
        "            break\n",
        "        elif program == 1:\n",
        "            display_menu()\n",
        "        elif program == 2:\n",
        "            satin_alma_ucreti, satin_alinan_urunler, satin_alma_adedi = satin_alma()\n",
        "            with open(\"kasa.txt\",\"a\") as f:\n",
        "                f.write(str(time.ctime(time.time())))\n",
        "                f.write(\"\\n\")\n",
        "                f.write(','.join(map(str, satin_alinan_urunler)))\n",
        "                f.write(\"\\n\")\n",
        "                f.write(','.join(map(str, satin_alma_adedi)))\n",
        "                f.write(\"\\n\")\n",
        "                f.write(f\"Toplam: {satin_alma_ucreti}\")\n",
        "                f.write(\"\\n\")\n",
        "                f.write(\"*\"*20)\n",
        "                f.write(\"\\n\")\n",
        "            cikis_kontrol = input(\"Başka bir işlem yapmak istiyor musunuz? (evet-hayır): \")\n",
        "            if cikis_kontrol == \"evet\":\n",
        "                pass\n",
        "            else:\n",
        "                print(\"\\n\\nTEŞEKKÜRLER\")\n",
        "                break\n",
        "main()"
      ]
    }
  ],
  "metadata": {
    "colab": {
      "provenance": []
    },
    "kernelspec": {
      "display_name": "Python 3 (ipykernel)",
      "language": "python",
      "name": "python3"
    },
    "language_info": {
      "codemirror_mode": {
        "name": "ipython",
        "version": 3
      },
      "file_extension": ".py",
      "mimetype": "text/x-python",
      "name": "python",
      "nbconvert_exporter": "python",
      "pygments_lexer": "ipython3",
      "version": "3.12.4"
    },
    "orig_nbformat": 4,
    "vscode": {
      "interpreter": {
        "hash": "5026d2d6e7aaaaba093def813beadff083d8733e4a511af01735cbabd156995d"
      }
    }
  },
  "nbformat": 4,
  "nbformat_minor": 0
}