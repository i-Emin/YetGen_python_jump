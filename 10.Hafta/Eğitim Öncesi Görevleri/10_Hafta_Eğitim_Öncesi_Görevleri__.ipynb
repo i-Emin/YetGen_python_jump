{
  "cells": [
    {
      "cell_type": "markdown",
      "metadata": {
        "id": "fjSi8Wgwl2d-"
      },
      "source": [
        "# Problem 1"
      ]
    },
    {
      "cell_type": "code",
      "execution_count": 5,
      "metadata": {
        "colab": {
          "base_uri": "https://localhost:8080/"
        },
        "id": "zEsSZytKl2d_",
        "outputId": "87b77e00-244b-4fa1-ca0d-3cfa731aff9c"
      },
      "outputs": [
        {
          "output_type": "stream",
          "name": "stdout",
          "text": [
            "[5 4 0 8 1]\n",
            "(5,)\n",
            "[[5 4 0 8 1]]\n",
            "2\n"
          ]
        }
      ],
      "source": [
        "# 1 - numpy kütüphanesini import edin\n",
        "import numpy as np\n",
        "# 2 - 0 ile 10 arasında 5 sayıdan oluşan matris üretin\n",
        "matris = np.random.randint(0, 11, 5)\n",
        "print(matris)\n",
        "# 3 - matris'in boyutunu öğrenin\n",
        "print( matris.shape)\n",
        "# 4 - matris'i yeniden boyutlandırın\n",
        "yeni_matris = matris.reshape(1, 5)\n",
        "print(yeni_matris)\n",
        "# 5 - matris'in boyut sayısını öğrenin\n",
        "print(yeni_matris.ndim)"
      ]
    },
    {
      "cell_type": "markdown",
      "metadata": {
        "id": "fjSA-7Xgl2eA"
      },
      "source": [
        "# Problem 2"
      ]
    },
    {
      "cell_type": "code",
      "execution_count": 6,
      "metadata": {
        "colab": {
          "base_uri": "https://localhost:8080/"
        },
        "id": "bfrAg9fRl2eA",
        "outputId": "4a8f5988-02e8-486c-c490-d89d5076e224"
      },
      "outputs": [
        {
          "output_type": "stream",
          "name": "stdout",
          "text": [
            "[[7 1 5]\n",
            " [3 3 9]]\n",
            "[[7 1]\n",
            " [3 3]]\n",
            "[[5]\n",
            " [9]]\n",
            "[[7 1 5]\n",
            " [3 3 9]]\n"
          ]
        }
      ],
      "source": [
        "# 1 - 0 ile 10 arasında bulunan tek sayılardan oluşan matris üretin\n",
        "matris = np.random.choice([1, 3, 5, 7, 9], size=(2, 3))\n",
        "print(matris)\n",
        "# 2 - Oluşturduğunuz matrisi parçalayın\n",
        "parca1 = matris[:, :2]\n",
        "parca2 = matris[:, 2:]\n",
        "print(parca1)\n",
        "print(parca2)\n",
        "\n",
        "# 3 - Parçalanmış matrisleri birleştirin\n",
        "birlesmis_matris = np.concatenate((parca1, parca2), axis=1)\n",
        "print(birlesmis_matris)"
      ]
    },
    {
      "cell_type": "markdown",
      "metadata": {
        "id": "VupN6Ohgl2eA"
      },
      "source": [
        "# Problem 3"
      ]
    },
    {
      "cell_type": "code",
      "execution_count": 9,
      "metadata": {
        "colab": {
          "base_uri": "https://localhost:8080/"
        },
        "id": "uXadlIb_l2eA",
        "outputId": "09d65447-f3ad-42cd-a6c0-ae794ee432d6"
      },
      "outputs": [
        {
          "output_type": "stream",
          "name": "stdout",
          "text": [
            "[[40 11 95 70 87]\n",
            " [80 14 57 27 94]]\n"
          ]
        },
        {
          "output_type": "execute_result",
          "data": {
            "text/plain": [
              "8"
            ]
          },
          "metadata": {},
          "execution_count": 9
        }
      ],
      "source": [
        "# 1 - 5 ile 100 arasında ikişer ikişer atlayarak rastgele 10 sayıdan oluşan matris üretin\n",
        "matris = np.random.randint(5, 101, size=(2, 5))\n",
        "print(matris)\n",
        "\n",
        "# 2 - matris'in özelliklerini inceleyin\n",
        "matris.shape\n",
        "matris.ndim\n",
        "matris.size"
      ]
    }
  ],
  "metadata": {
    "kernelspec": {
      "display_name": "Python 3",
      "language": "python",
      "name": "python3"
    },
    "language_info": {
      "name": "python",
      "version": "3.10.5 (tags/v3.10.5:f377153, Jun  6 2022, 16:14:13) [MSC v.1929 64 bit (AMD64)]"
    },
    "orig_nbformat": 4,
    "vscode": {
      "interpreter": {
        "hash": "5026d2d6e7aaaaba093def813beadff083d8733e4a511af01735cbabd156995d"
      }
    },
    "colab": {
      "provenance": []
    }
  },
  "nbformat": 4,
  "nbformat_minor": 0
}