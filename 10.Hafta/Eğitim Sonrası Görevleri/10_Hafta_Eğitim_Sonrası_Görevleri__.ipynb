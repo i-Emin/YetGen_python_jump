{
  "cells": [
    {
      "cell_type": "markdown",
      "metadata": {
        "id": "tfSkAIWwqgjM"
      },
      "source": [
        "# Problem 1"
      ]
    },
    {
      "cell_type": "code",
      "execution_count": null,
      "metadata": {
        "id": "1XCzWowjqgjR"
      },
      "outputs": [],
      "source": [
        "# 1 - numpy kütüphanesini import edin\n",
        "\n",
        "import numpy as np\n",
        "\n",
        "# 2 - 5 elemanlı bir numpy array oluşturun\n",
        "\n",
        "arr = np.array([1,2,3,4,5])\n",
        "print(arr)\n",
        "\n",
        "# 3 - Oluşturduğunuz arrayi küçükten büyüğe sıralayın.\n",
        "\n",
        "print(np.sort(arr))\n"
      ]
    },
    {
      "cell_type": "markdown",
      "metadata": {
        "id": "i5qQQI6iqgjT"
      },
      "source": [
        "# Problem 2"
      ]
    },
    {
      "cell_type": "code",
      "execution_count": null,
      "metadata": {
        "id": "6Mr9AsjtqgjV"
      },
      "outputs": [],
      "source": [
        "# 1- (10,15,30,45,60) değerlerine sahip numpy dizisi oluşturunuz.\n",
        "\n",
        "arr = np.array([10,15,30,45,60])\n",
        "print(arr)\n",
        "\n",
        "\n",
        "# 2- (5-15) arasındaki sayılarla numpy dizisi oluşturunuz.\n",
        "\n",
        "arr = np.arange(5,15)\n",
        "print(arr)\n",
        "\n",
        "# 3- (50-100) arasında 5'er 5'er artarak numpy dizisi oluşturunuz.\n",
        "\n",
        "arr = np.arange(50,100,5)\n",
        "print(arr)\n",
        "\n",
        "\n",
        "# 4- 10 elemanlı sıfırlardan oluşan bir dizi oluşturunuz.\n",
        "\n",
        "arr = np.zeros(10)\n",
        "print(arr)\n",
        "\n",
        "\n",
        "# 5- 10 elemanlı birlerden oluşan bir dizi oluşturunuz.\n",
        "\n",
        "arr = np.ones(10)\n",
        "print(arr)\n",
        "\n",
        "\n",
        "# 6- (0-100) arasında eşit aralıklı 5 sayı üretin.\n",
        "\n",
        "arr = np.linspace(0,100,5)\n",
        "print(arr)\n",
        "\n",
        "\n",
        "# 7- (10-30) arasında rastgele 5 tane tamsayı üretin.\n",
        "\n",
        "arr = np.random.randint(10,30,5)\n",
        "print(arr)\n",
        "\n",
        "\n",
        "# 8- [-1 ile 1] arasında 10 adet sayı üretin.\n",
        "\n",
        "arr = np.random.uniform(-1,1,10)\n",
        "print(arr)\n",
        "\n",
        "\n",
        "# 9- (3x5) boyutlarında (10-50) arasında rastgele bir matris oluşturunuz.\n",
        "\n",
        "arr = np.random.randint(10,50,15).reshape(3,5)\n",
        "print(arr)\n",
        "\n",
        "\n",
        "# 10- Üretilen matrisin satır ve sütun sayıları toplamlarını hesaplayınız ?\n",
        "\n",
        "print(arr.sum(axis=1))\n",
        "print(arr.sum(axis=0))\n",
        "\n",
        "\n",
        "# 11- Üretilen matrisin en büyük, en küçük ve ortalaması nedir ?\n",
        "\n",
        "print(arr.max())\n",
        "print(arr.min())\n",
        "print(arr.mean())\n",
        "\n",
        "\n",
        "# 12- Üretilen matrisin en büyük değerinin indeksi kaçtır ?\n",
        "\n",
        "print(arr.argmax())\n",
        "\n",
        "\n",
        "# 13- (10-20) arasındaki sayıları içeren dizinin ilk 3 elemanını seçiniz.\n",
        "\n",
        "arr = np.arange(10,20)\n",
        "print(arr[:3])\n",
        "\n",
        "\n",
        "# 14- Üretilen dizinin elemanlarını tersten yazdırın.\n",
        "\n",
        "print(arr[::-1])\n",
        "\n",
        "\n",
        "# 15- Üretilen matrisin ilk satırını seçiniz.\n",
        "\n",
        "print(arr[0])\n",
        "\n",
        "\n",
        "# 16- Üretilen matrisin 2.satır 3.sütundaki elemanı hangisidir ?\n",
        "\n",
        "print(arr[1,2])\n",
        "\n",
        "\n",
        "# 17- Üretilen matrisin tüm satırlardaki ilk elemanı seçiniz.\n",
        "\n",
        "print(arr[:,0])\n",
        "\n",
        "\n",
        "# 18- Üretilen matrisin her bir elemanının karesini alınız.\n",
        "\n",
        "print(arr**2)\n",
        "\n",
        "\n",
        "# 19- Üretilen matris elemanlarının hangisi pozitif çift sayıdır ? Aralığı (-50,+50) arasında yapınız.\n",
        "\n",
        "arr = np.random.randint(-50,50,100)\n",
        "print(arr[(arr>0) & (arr%2==0)])\n"
      ]
    }
  ],
  "metadata": {
    "kernelspec": {
      "display_name": "Python 3",
      "language": "python",
      "name": "python3"
    },
    "language_info": {
      "name": "python",
      "version": "3.10.5 (tags/v3.10.5:f377153, Jun  6 2022, 16:14:13) [MSC v.1929 64 bit (AMD64)]"
    },
    "orig_nbformat": 4,
    "vscode": {
      "interpreter": {
        "hash": "5026d2d6e7aaaaba093def813beadff083d8733e4a511af01735cbabd156995d"
      }
    },
    "colab": {
      "provenance": []
    }
  },
  "nbformat": 4,
  "nbformat_minor": 0
}