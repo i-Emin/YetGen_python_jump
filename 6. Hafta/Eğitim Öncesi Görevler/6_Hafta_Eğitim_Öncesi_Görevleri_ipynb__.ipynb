{
  "cells": [
    {
      "cell_type": "markdown",
      "metadata": {
        "id": "4i4T2_mYtDbK"
      },
      "source": [
        "# Problem 1\n",
        "Elinizde bir dikdörtgenin kenarlarını ifade eden sayı çiftlerinin bulunduğu bir liste olsun.\n",
        "\n",
        "     [(3,4),(10,3),(5,6),(1,9)]\n",
        "\n",
        "Şimdi kenar uzunluklarına göre dikdörtgenin alanını hesaplayan bir fonksiyon yazın ve bu listenin her bir elemanına bu fonksiyonu uygulayarak ekrana şöyle bir liste yazdırın.\n",
        "\n",
        "     [12, 30, 30, 9]\n",
        "\n",
        "İpucu : map() fonksiyonunu kullanmaya çalışın."
      ]
    },
    {
      "cell_type": "code",
      "execution_count": 1,
      "metadata": {
        "id": "7sIq-jJwtDbN",
        "colab": {
          "base_uri": "https://localhost:8080/"
        },
        "outputId": "cafaab24-5d9e-4334-e385-ddd09c1e2930"
      },
      "outputs": [
        {
          "output_type": "stream",
          "name": "stdout",
          "text": [
            "[12, 30, 30, 9]\n"
          ]
        }
      ],
      "source": [
        "# 1.Problemin Çözümünü Buraya Yazınız\n",
        "def dikdortgen_alani(kosegen):\n",
        "    return kosegen[0] * kosegen[1]\n",
        "\n",
        "kenar_listesi = [(3, 4), (10, 3), (5, 6), (1, 9)]\n",
        "\n",
        "alan_listesi = list(map(dikdortgen_alani, kenar_listesi))\n",
        "\n",
        "print(alan_listesi)\n"
      ]
    },
    {
      "cell_type": "markdown",
      "metadata": {
        "id": "mDPVivNxtDbO"
      },
      "source": [
        "# Problem 2\n",
        "\n",
        "Elinizden her bir elemanı 3'lü bir demet olan bir liste olsun.\n",
        "\n",
        " ```[(3,4,5),(6,8,10),(3,10,7)]```\n",
        "\n",
        "Şimdi kenar uzunluklarına göre bu kenarların bir üçgen oluşturup oluşturmadığını döndüren bir fonksiyon yazın ve sadece üçgen oluşturan kenarları bulunduran listeyi ekrana yazdırın.\n",
        "\n",
        " ```[(3, 4, 5), (6, 8, 10)]```\n",
        "\n",
        "İpucu: filter() fonksiyonunu kullanmaya çalışın."
      ]
    },
    {
      "cell_type": "code",
      "execution_count": 2,
      "metadata": {
        "id": "nf-hi67xtDbP",
        "colab": {
          "base_uri": "https://localhost:8080/"
        },
        "outputId": "abd583e8-600f-4ef3-e36d-32399d5f4731"
      },
      "outputs": [
        {
          "output_type": "stream",
          "name": "stdout",
          "text": [
            "[(3, 4, 5), (6, 8, 10)]\n"
          ]
        }
      ],
      "source": [
        "# 2.Problemin Çözümünü Buraya Yazınız\n",
        "def ucgen_mi(kenarlar):\n",
        "    a, b, c = kenarlar\n",
        "    return a + b > c and a + c > b and b + c > a\n",
        "\n",
        "kenar_listesi = [(3, 4, 5), (6, 8, 10), (3, 10, 7)]\n",
        "\n",
        "ucgen_listesi = list(filter(ucgen_mi, kenar_listesi))\n",
        "\n",
        "print(ucgen_listesi)\n"
      ]
    },
    {
      "cell_type": "markdown",
      "metadata": {
        "id": "35ur1Ul_tDbP"
      },
      "source": [
        "# Problem 3\n",
        "Elinizde aşağıdaki gibi bir liste bulunmaktadır.\n",
        "\n",
        "```[1,2,3,4,5,6,7,8,9,10]```\n",
        "\n",
        "Bu listenin içindeki çift sayıların toplamını ekrana yazdıran bir fonksiyon yazın.\n",
        "\n",
        "İpucu: İlk önce filter() fonksiyonu ile çift sayıları ayıklayın. Daha sonra reduce() fonksiyonunu kullanın."
      ]
    },
    {
      "cell_type": "code",
      "execution_count": 3,
      "metadata": {
        "id": "sRPOpzAvtDbP",
        "colab": {
          "base_uri": "https://localhost:8080/"
        },
        "outputId": "87739db2-e787-4c3d-85e4-765946333632"
      },
      "outputs": [
        {
          "output_type": "stream",
          "name": "stdout",
          "text": [
            "Çift sayıların toplamı: 30\n"
          ]
        }
      ],
      "source": [
        "# 3.Problemin Çözümünü Buraya Yazınız\n",
        "import math\n",
        "from functools import reduce\n",
        "def cift_sayi_mi(sayi):\n",
        "    return sayi % 2 == 0\n",
        "\n",
        "# Verilen liste\n",
        "sayi_listesi = [1, 2, 3, 4, 5, 6, 7, 8, 9, 10]\n",
        "cift_sayilar = list(filter(cift_sayi_mi, sayi_listesi))\n",
        "cift_sayilarin_toplami = sum(cift_sayilar)\n",
        "\n",
        "print(\"Çift sayıların toplamı:\", cift_sayilarin_toplami)\n"
      ]
    },
    {
      "cell_type": "markdown",
      "metadata": {
        "id": "b-NzXcXrtDbQ"
      },
      "source": [
        "# Problem 4\n",
        "\n",
        "Elinizde isimlerin ve soyisimlerin bulunduğu iki tane liste bulunmaktadır.\n",
        "\n",
        "    isimler -----> [\"Kerim\",\"Tarık\",\"Ezgi\",\"Kemal\",\"İlkay\",\"Şükran\",\"Merve\"]\n",
        "\n",
        "    soyisimler -----> [\"Yılmaz\",\"Öztürk\",\"Dağdeviren\",\"Atatürk\",\"Dikmen\",\"Kaya\",\"Polat\"]\n",
        "    \n",
        "Bu isimleri ve soyisimleri sırasıyla eşleştirin ve ekrana alt alta isimleri ve soyisimleri yazdırın.\n",
        "\n",
        "İpucu: zip() fonksiyonunu kullanmaya kullanın."
      ]
    },
    {
      "cell_type": "code",
      "execution_count": 4,
      "metadata": {
        "id": "y_psHJSitDbQ",
        "colab": {
          "base_uri": "https://localhost:8080/"
        },
        "outputId": "6d232076-3729-41f3-d860-b091e82aeb0f"
      },
      "outputs": [
        {
          "output_type": "stream",
          "name": "stdout",
          "text": [
            "Kerim Yılmaz\n",
            "Tarık Öztürk\n",
            "Ezgi Dağdeviren\n",
            "Kemal Atatürk\n",
            "İlkay Dikmen\n",
            "Şükran Kaya\n",
            "Merve Polat\n"
          ]
        }
      ],
      "source": [
        "# 4.Problemin Çözümünü Buraya Yazınız\n",
        "isimler = [\"Kerim\", \"Tarık\", \"Ezgi\", \"Kemal\", \"İlkay\", \"Şükran\", \"Merve\"]\n",
        "soyisimler = [\"Yılmaz\", \"Öztürk\", \"Dağdeviren\", \"Atatürk\", \"Dikmen\", \"Kaya\", \"Polat\"]\n",
        "eslestirilmis_isimler = zip(isimler, soyisimler)\n",
        "for isim, soyisim in eslestirilmis_isimler:\n",
        "    print(f\"{isim} {soyisim}\")\n"
      ]
    },
    {
      "cell_type": "markdown",
      "metadata": {
        "id": "iyKtrQHmtDbQ"
      },
      "source": [
        "# Problem 5\n",
        "\n",
        "İçerisinde yetgen, core, python2, programı, 2022, basic2 elemanları bulunan bir liste oluşturun.\n",
        "\n",
        "Bu listenin içindeki stringlerden içinde sadece rakam bulunanları ekrana yazdırın. Bunu yaparken try, except bloklarını kullanmayı unutmayın."
      ]
    },
    {
      "cell_type": "code",
      "execution_count": 6,
      "metadata": {
        "id": "7ckliOAftDbR",
        "colab": {
          "base_uri": "https://localhost:8080/"
        },
        "outputId": "c38c4873-78d6-4784-c721-6ac7b6222ba5"
      },
      "outputs": [
        {
          "output_type": "stream",
          "name": "stdout",
          "text": [
            "python2\n",
            "2022\n",
            "basic2\n"
          ]
        }
      ],
      "source": [
        "# 5.Problemin Çözümünü Buraya Yazınız\n",
        "elemanlar = [\"yetgen\", \"core\", \"python2\", \"programı\", \"2022\", \"basic2\"]\n",
        "\n",
        "for eleman in elemanlar:\n",
        "    try:\n",
        "        if any(char.isdigit() for char in eleman):\n",
        "            print(eleman)\n",
        "    except:\n",
        "        pass\n"
      ]
    }
  ],
  "metadata": {
    "kernelspec": {
      "display_name": "Python 3",
      "language": "python",
      "name": "python3"
    },
    "language_info": {
      "name": "python",
      "version": "3.10.5 (tags/v3.10.5:f377153, Jun  6 2022, 16:14:13) [MSC v.1929 64 bit (AMD64)]"
    },
    "orig_nbformat": 4,
    "vscode": {
      "interpreter": {
        "hash": "5026d2d6e7aaaaba093def813beadff083d8733e4a511af01735cbabd156995d"
      }
    },
    "colab": {
      "provenance": []
    }
  },
  "nbformat": 4,
  "nbformat_minor": 0
}