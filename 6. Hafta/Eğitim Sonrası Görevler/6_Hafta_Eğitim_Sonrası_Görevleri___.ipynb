{
  "cells": [
    {
      "cell_type": "markdown",
      "metadata": {
        "id": "unoTPlV_tJOm"
      },
      "source": [
        "# Problem 1\n",
        "Bir sayının çift olup olmadığını sorgulayan bir fonksiyon yazın. Bu fonksiyon, eğer sayı çift ise bu değeri dönsün. Ancak sayı tek sayı ise fonksiyon raise ile ValueError hatası oluştursun. Daha sonra, içinde çift ve tek sayılar bulunduran bir liste tanımlayın ve liste üzerinde gezinerek ekrana sadece çift sayıları bastırın."
      ]
    },
    {
      "cell_type": "code",
      "execution_count": null,
      "metadata": {
        "id": "7oyBSeXptJOp",
        "colab": {
          "base_uri": "https://localhost:8080/"
        },
        "outputId": "c117c178-bfe4-4a56-c9e2-7660879a1caf"
      },
      "outputs": [
        {
          "output_type": "stream",
          "name": "stdout",
          "text": [
            "2\n",
            "4\n",
            "6\n",
            "8\n",
            "10\n"
          ]
        }
      ],
      "source": [
        "# 1.Problemin Çözümünü Buraya Yazınız\n",
        "def kontrol_sayi(sayi):\n",
        "    if sayi % 2 == 0:\n",
        "        return sayi\n",
        "    else:\n",
        "        raise ValueError(\"Bu bir tek sayıdır.\")\n",
        "\n",
        "def cift_sayilari_bastir(liste):\n",
        "    for sayi in liste:\n",
        "        try:\n",
        "            sonuc = kontrol_sayi(sayi)\n",
        "            print(sonuc)\n",
        "        except ValueError as e:\n",
        "            continue\n",
        "\n",
        "sayilar = [1, 2, 3, 4, 5, 6, 7, 8, 9, 10]\n",
        "\n",
        "cift_sayilari_bastir(sayilar)\n"
      ]
    },
    {
      "cell_type": "markdown",
      "metadata": {
        "id": "CdfzJ2A9tJOq"
      },
      "source": [
        "# Problem 2\n",
        "\n",
        "2 YetGen lideri ders sırasında canları sıkılınca oyun oynamak isterler. Ancak hangi oyunu oynayacaklarına karar veremezler ve son olarak kendi oyunlarını yazmaya karar verirler.\n",
        "Liderlerimizin kodlamak istediği oyun kuralları şöyledir:\n",
        "- Oyunda random olarak 0 ile 100 arasında bir sayı tutulur.\n",
        "- Kullanıcıdan bilgisayarın tuttuğu sayıyı tahmin etmesi için bir sayı girmesini istenir.\n",
        "- Eğer kullanıcının girdiği sayı bulunması gereken sayıdan küçükse  tahmininizi yükseltin, büyükse tahmininizi düşürün şeklinde bir çıktı verilir.\n",
        "- Oyunun gerçeğe yakın olması için bilgisayarın çalışmasını simgelemek için 1 saniye bekleme süresi tanınır.\n",
        "- Kullanıcı 5 hakkı vardır. 5 hakkı da kullanıp sayıyı bulamazsa oyunu kaybeder."
      ]
    },
    {
      "cell_type": "code",
      "execution_count": 3,
      "metadata": {
        "id": "A1VEETgCtJOr",
        "colab": {
          "base_uri": "https://localhost:8080/"
        },
        "outputId": "91782a1a-2ae7-411d-ecc6-a47b73d94e69"
      },
      "outputs": [
        {
          "output_type": "stream",
          "name": "stdout",
          "text": [
            "YetGen Liderleri Tahmin Oyununa Hoş Geldiniz!\n",
            "Bilgisayar 0 ile 100 arasında bir sayı tuttu.\n",
            "\n",
            "Kalan tahmin hakkınız: 5\n",
            "Tahmininizi girin (0 ile 100 arası bir sayı): 54\n",
            "Tahmininiz çok küçük! Tahmininizi yükseltin.\n",
            "\n",
            "Kalan tahmin hakkınız: 4\n",
            "Tahmininizi girin (0 ile 100 arası bir sayı): 58\n",
            "Tahmininiz çok büyük! Tahmininizi düşürün.\n",
            "\n",
            "Kalan tahmin hakkınız: 3\n",
            "Tahmininizi girin (0 ile 100 arası bir sayı): 71\n",
            "Tahmininiz çok büyük! Tahmininizi düşürün.\n",
            "\n",
            "Kalan tahmin hakkınız: 2\n",
            "Tahmininizi girin (0 ile 100 arası bir sayı): 61\n",
            "Tahmininiz çok büyük! Tahmininizi düşürün.\n",
            "\n",
            "Kalan tahmin hakkınız: 1\n",
            "Tahmininizi girin (0 ile 100 arası bir sayı): 59\n",
            "Tahmininiz çok büyük! Tahmininizi düşürün.\n",
            "\n",
            "Maalesef, hakkınız bitti. Doğru sayı 57 idi. Oyunu kaybettiniz.\n"
          ]
        }
      ],
      "source": [
        "# 2.Problemin Çözümünü Buraya Yazınız.\n",
        "import random\n",
        "import time\n",
        "\n",
        "def oyun():\n",
        "    print(\"YetGen Liderleri Tahmin Oyununa Hoş Geldiniz!\")\n",
        "    print(\"Bilgisayar 0 ile 100 arasında bir sayı tuttu.\")\n",
        "    hedef_sayi = random.randint(0, 100)\n",
        "    tahmin_hakki = 5\n",
        "\n",
        "    while tahmin_hakki > 0:\n",
        "        print(\"\\nKalan tahmin hakkınız:\", tahmin_hakki)\n",
        "        tahmin = int(input(\"Tahmininizi girin (0 ile 100 arası bir sayı): \"))\n",
        "\n",
        "        if tahmin < hedef_sayi:\n",
        "            print(\"Tahmininiz çok küçük! Tahmininizi yükseltin.\")\n",
        "        elif tahmin > hedef_sayi:\n",
        "            print(\"Tahmininiz çok büyük! Tahmininizi düşürün.\")\n",
        "        else:\n",
        "            print(f\"Tebrikler! {hedef_sayi} sayısını doğru tahmin ettiniz!\")\n",
        "            return\n",
        "\n",
        "        tahmin_hakki -= 1\n",
        "        time.sleep(1)\n",
        "\n",
        "    print(f\"\\nMaalesef, hakkınız bitti. Doğru sayı {hedef_sayi} idi. Oyunu kaybettiniz.\")\n",
        "\n",
        "oyun()\n"
      ]
    }
  ],
  "metadata": {
    "kernelspec": {
      "display_name": "Python 3",
      "language": "python",
      "name": "python3"
    },
    "language_info": {
      "codemirror_mode": {
        "name": "ipython",
        "version": 3
      },
      "file_extension": ".py",
      "mimetype": "text/x-python",
      "name": "python",
      "nbconvert_exporter": "python",
      "pygments_lexer": "ipython3",
      "version": "3.10.5"
    },
    "orig_nbformat": 4,
    "vscode": {
      "interpreter": {
        "hash": "5026d2d6e7aaaaba093def813beadff083d8733e4a511af01735cbabd156995d"
      }
    },
    "colab": {
      "provenance": []
    }
  },
  "nbformat": 4,
  "nbformat_minor": 0
}