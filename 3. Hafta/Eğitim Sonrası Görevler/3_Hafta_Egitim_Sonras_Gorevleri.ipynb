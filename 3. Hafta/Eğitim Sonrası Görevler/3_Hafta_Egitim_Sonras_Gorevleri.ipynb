{
  "cells": [
    {
      "cell_type": "markdown",
      "metadata": {
        "id": "iynMkzK2ozgo"
      },
      "source": [
        "# Problem 1\n",
        "Kullanıcıdan bir sayı alınız. Sayı 0'dan büyükse pozitif , 0'dan küçükse negatif sıfıra eşitse sıfır yazdırınız."
      ]
    },
    {
      "cell_type": "code",
      "execution_count": 3,
      "metadata": {
        "id": "Y5eMYyiOozgw",
        "colab": {
          "base_uri": "https://localhost:8080/"
        },
        "outputId": "dd317fca-0953-4ea9-cea4-6f39e92f6240"
      },
      "outputs": [
        {
          "output_type": "stream",
          "name": "stdout",
          "text": [
            "Bir sayı giriniz: 0.127\n",
            "Pozitif\n"
          ]
        }
      ],
      "source": [
        "# 1.Problemin Çözümünü Buraya Yazınız\n",
        "x = float(input(\"Bir sayı giriniz: \"))\n",
        "if x > 0:\n",
        "    print(\"Pozitif\")\n",
        "elif x == 0:\n",
        "    print(\"Sıfır\")\n",
        "else:\n",
        "    print(\"Negatif\")"
      ]
    },
    {
      "cell_type": "markdown",
      "metadata": {
        "id": "gUrFd7pgozgz"
      },
      "source": [
        " # Problem 2\n",
        "Kullanıcıdan aldığınız bir sayının mükemmel olup olmadığını bulmaya çalışın.\n",
        "Bir sayının kendi hariç bölenlerinin toplamı kendine eşitse bu sayıya \"mükemmel sayı\" denir. Örnek olarak, 6 mükemmel bir sayıdır. (1 + 2 + 3 = 6)\n"
      ]
    },
    {
      "cell_type": "code",
      "execution_count": 6,
      "metadata": {
        "id": "Oc8lAzLaozg0",
        "colab": {
          "base_uri": "https://localhost:8080/"
        },
        "outputId": "919c1587-f097-4eb4-faa0-73e70ebd2f3d"
      },
      "outputs": [
        {
          "output_type": "stream",
          "name": "stdout",
          "text": [
            "Bir sayı giriniz: 6\n",
            "Mükemmel\n"
          ]
        }
      ],
      "source": [
        "# 2.Problemin Çözümünü Buraya Yazınız\n",
        "x = int(input(\"Bir sayı giriniz: \"))\n",
        "toplam = 0\n",
        "for i in range(1,x):\n",
        "    if x % i == 0:\n",
        "        toplam += i\n",
        "if toplam == x:\n",
        "    print(\"Mükemmel\")\n",
        "\n",
        "else:\n",
        "    print(\"Mükemmel Değil\")"
      ]
    },
    {
      "cell_type": "markdown",
      "metadata": {
        "id": "wU080UMcozg1"
      },
      "source": [
        " # Problem 3\n",
        "Kullanıcıdan aldığınız bir sayının \"Armstrong\" sayısı olup olmadığını bulmaya çalışın.\n",
        "Örnek olarak, Bir sayı eğer 4 basamaklı ise ve oluşturan rakamlardan herbirinin 4. kuvvetinin toplamı( 3 basamaklı sayılar için 3.kuvveti ) o sayıya eşitse bu sayıya \"Armstrong\" sayısı denir.\n",
        "\n",
        "Örnek olarak : 1634 = 1^4 + 6^4 + 3^4 + 4^4"
      ]
    },
    {
      "cell_type": "code",
      "execution_count": 20,
      "metadata": {
        "id": "NF529iKaozg3",
        "colab": {
          "base_uri": "https://localhost:8080/"
        },
        "outputId": "f110ecf8-ccb2-46c0-b443-b238eb3efb44"
      },
      "outputs": [
        {
          "output_type": "stream",
          "name": "stdout",
          "text": [
            "Dört Basamaklı Bir sayı giriniz: 123\n",
            "Geçersiz giriş. Lütfen dört basamaklı bir sayı giriniz.\n",
            "Armstrong Değil\n"
          ]
        }
      ],
      "source": [
        "# 3.Problemin Çözümünü Buraya Yazınız\n",
        "x = input(\"Dört Basamaklı Bir sayı giriniz: \")\n",
        "if len(x) != 4:\n",
        "    print(\"Geçersiz giriş. Lütfen dört basamaklı bir sayı giriniz.\")\n",
        "toplam = 0\n",
        "for i in x:\n",
        "    toplam += int(i)**4\n",
        "if toplam == int(x):\n",
        "    print(\"Armstrong\")\n",
        "else:\n",
        "    print(\"Armstrong Değil\")"
      ]
    },
    {
      "cell_type": "markdown",
      "metadata": {
        "id": "4hSmU3Yoozg4"
      },
      "source": [
        "# Problem 4\n",
        "YetGen Core Python mezunu bir öğretmenimiz öğrencilerine 1'den 10'a kadar sayılarla çarpım tablosunu öğretirken Python'dan destek almak istiyor. Bu konuda öğretmenimize yardımcı olmak ister misin?\n",
        "\n",
        "İpucu: İç içe 2 tane for döngüsü kullanın.\n",
        "\n",
        "Aynı zamanda sayıları range() fonksiyonunu kullanarak elde edin."
      ]
    },
    {
      "cell_type": "code",
      "execution_count": 7,
      "metadata": {
        "id": "WsDvmcXgozg5",
        "colab": {
          "base_uri": "https://localhost:8080/"
        },
        "outputId": "eb109791-a51c-410f-addb-412090bb669b"
      },
      "outputs": [
        {
          "output_type": "stream",
          "name": "stdout",
          "text": [
            "1 2 3 4 5 6 7 8 9 10 \n",
            "2 4 6 8 10 12 14 16 18 20 \n",
            "3 6 9 12 15 18 21 24 27 30 \n",
            "4 8 12 16 20 24 28 32 36 40 \n",
            "5 10 15 20 25 30 35 40 45 50 \n",
            "6 12 18 24 30 36 42 48 54 60 \n",
            "7 14 21 28 35 42 49 56 63 70 \n",
            "8 16 24 32 40 48 56 64 72 80 \n",
            "9 18 27 36 45 54 63 72 81 90 \n",
            "10 20 30 40 50 60 70 80 90 100 \n"
          ]
        }
      ],
      "source": [
        "# 4.Problemin Çözümünü Buraya Yazınız\n",
        "for i in range(1,11):\n",
        "    for j in range(1,11):\n",
        "        print(i*j, end=\" \")\n",
        "    print()"
      ]
    },
    {
      "cell_type": "markdown",
      "metadata": {
        "id": "jJpAhNPtozg7"
      },
      "source": [
        "# Problem 5\n",
        "Markete giren bir YetGen'li sıra beklememek için hızlı kasaya gider. Hızlı kasanın çalışma mantığı şu şekildedir:\n",
        "- Kullanıcının aldığı her ürünün fiyatını tek tek girmesi gerekir.\n",
        "- Kullanıcı kasadan çıkmak isterse q tuşuna basmalıdır.\n",
        "- Kasa girilen fiyatları son fiyat isimli değişkene ekler.\n",
        "- Değişkeni ekrana bastırır.\n",
        "\n",
        "İpucu: while döngüsünü sonsuz koşulla başlatın ve kullanıcı q'ya basarsa döngüyü break ile sonlandırın."
      ]
    },
    {
      "cell_type": "code",
      "execution_count": 11,
      "metadata": {
        "id": "Tr4QbmESozg9",
        "colab": {
          "base_uri": "https://localhost:8080/"
        },
        "outputId": "b5357f21-67c7-4916-f5f8-1b7069d73ee3"
      },
      "outputs": [
        {
          "output_type": "stream",
          "name": "stdout",
          "text": [
            "Ürün fiyatını giriniz: 25\n",
            "Ürün fiyatını giriniz: 97.5\n",
            "Ürün fiyatını giriniz: q\n",
            "122.5\n"
          ]
        }
      ],
      "source": [
        "# 5.Problemin Çözümünü Buraya Yazınız\n",
        "urun = input(\"Ürün fiyatını giriniz: \")\n",
        "toplam = 0\n",
        "while urun != \"q\":\n",
        "    toplam += float(urun)\n",
        "    urun = input(\"Ürün fiyatını giriniz: \")\n",
        "print(toplam)"
      ]
    },
    {
      "cell_type": "markdown",
      "metadata": {
        "id": "lqJyFt_Eozg-"
      },
      "source": [
        "# Problem 6\n",
        "1'den 100'e kadar olan sayılardan sadece 3'e bölünen sayıları ekrana bastırın. Bu işlemi continue ile yapmaya çalışın."
      ]
    },
    {
      "cell_type": "code",
      "execution_count": 12,
      "metadata": {
        "id": "0ZVgZqAQozg_",
        "colab": {
          "base_uri": "https://localhost:8080/"
        },
        "outputId": "9eb83d4c-020f-4177-f18e-f49e8c95e6de"
      },
      "outputs": [
        {
          "output_type": "stream",
          "name": "stdout",
          "text": [
            "3\n",
            "6\n",
            "9\n",
            "12\n",
            "15\n",
            "18\n",
            "21\n",
            "24\n",
            "27\n",
            "30\n",
            "33\n",
            "36\n",
            "39\n",
            "42\n",
            "45\n",
            "48\n",
            "51\n",
            "54\n",
            "57\n",
            "60\n",
            "63\n",
            "66\n",
            "69\n",
            "72\n",
            "75\n",
            "78\n",
            "81\n",
            "84\n",
            "87\n",
            "90\n",
            "93\n",
            "96\n",
            "99\n"
          ]
        }
      ],
      "source": [
        "# 6.Problemin Çözümünü Buraya Yazınız\n",
        "for i in range(1,101):\n",
        "    if i % 3 != 0:\n",
        "        continue\n",
        "    print(i)"
      ]
    },
    {
      "cell_type": "markdown",
      "metadata": {
        "id": "eA2r49EjozhA"
      },
      "source": [
        "# Problem 7\n",
        "Bir YetGen Core Python mezunu MEF Üniversitesi'nde Bilgisayar Bilimleri Doktora programının mülakatına girmeye hak kazanıyor. Mülakata hazırlanırken internetten soru araştırıyor. Karşısına çıkan ünlü FizzBuzz sorusuna benzer YetGen sorusunda kendisini yeterince hazır hissetmiyor. Bu soruyu çözmesine destek olmak ister misin?\n",
        "\n",
        "Soru aşağıdaki gibidir:\n",
        "\n",
        "1’den 100’e kadar sayıları yazdırıyoruz. Ancak eğer sayı 3’e bölünüyor ise Yet, sayı 5’e bölünüyorsa Gen, hem 3’e hem 5’e bölünüyorsa YetGen yazdırıyoruz."
      ]
    },
    {
      "cell_type": "code",
      "execution_count": 16,
      "metadata": {
        "id": "Q3H7p6vnozhB",
        "colab": {
          "base_uri": "https://localhost:8080/"
        },
        "outputId": "702ef5ef-ee84-48c2-e6b9-975dc97b3b83"
      },
      "outputs": [
        {
          "output_type": "stream",
          "name": "stdout",
          "text": [
            "Yet\n",
            "Gen\n",
            "Yet\n",
            "Yet\n",
            "Gen\n",
            "Yet\n",
            "YetGen\n",
            "Yet\n",
            "Gen\n",
            "Yet\n",
            "Yet\n",
            "Gen\n",
            "Yet\n",
            "YetGen\n",
            "Yet\n",
            "Gen\n",
            "Yet\n",
            "Yet\n",
            "Gen\n",
            "Yet\n",
            "YetGen\n",
            "Yet\n",
            "Gen\n",
            "Yet\n",
            "Yet\n",
            "Gen\n",
            "Yet\n",
            "YetGen\n",
            "Yet\n",
            "Gen\n",
            "Yet\n",
            "Yet\n",
            "Gen\n",
            "Yet\n",
            "YetGen\n",
            "Yet\n",
            "Gen\n",
            "Yet\n",
            "Yet\n",
            "Gen\n",
            "Yet\n",
            "YetGen\n",
            "Yet\n",
            "Gen\n",
            "Yet\n",
            "Yet\n",
            "Gen\n"
          ]
        }
      ],
      "source": [
        "# 7.Problemin Çözümünü Buraya Yazınız\n",
        "for i in range(1,101):\n",
        "    if i % 3 == 0 and i % 5 == 0:\n",
        "        print(\"YetGen\")\n",
        "    elif i % 3 == 0:\n",
        "        print(\"Yet\")\n",
        "    elif i % 5 == 0:\n",
        "        print(\"Gen\")"
      ]
    }
  ],
  "metadata": {
    "kernelspec": {
      "display_name": "Python 3.10.5 64-bit",
      "language": "python",
      "name": "python3"
    },
    "language_info": {
      "name": "python",
      "version": "3.10.5"
    },
    "orig_nbformat": 4,
    "vscode": {
      "interpreter": {
        "hash": "5026d2d6e7aaaaba093def813beadff083d8733e4a511af01735cbabd156995d"
      }
    },
    "colab": {
      "provenance": []
    }
  },
  "nbformat": 4,
  "nbformat_minor": 0
}