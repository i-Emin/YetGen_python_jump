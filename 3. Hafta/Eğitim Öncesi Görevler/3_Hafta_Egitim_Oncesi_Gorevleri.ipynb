{
  "cells": [
    {
      "cell_type": "markdown",
      "metadata": {
        "id": "tsD4YVAe_Te2"
      },
      "source": [
        "# Problem 1\n",
        "Bir sayının 7'ye bölünebilir olup olmadığını kontrol etmek\n",
        "için bir program yazın.\n",
        "\n",
        "İpucu: Mod operatörünü (%) kullanabilirsiniz."
      ]
    },
    {
      "cell_type": "code",
      "execution_count": 1,
      "metadata": {
        "id": "NGjvNwKx_Te7",
        "colab": {
          "base_uri": "https://localhost:8080/"
        },
        "outputId": "a15b463c-0603-43e9-e216-5aab850ff90c"
      },
      "outputs": [
        {
          "output_type": "stream",
          "name": "stdout",
          "text": [
            "Lütfen bir sayı girin: 55\n",
            "55 sayısı 7'ye tam bölünmez.\n"
          ]
        }
      ],
      "source": [
        "# 1.Problemin Çözümünü Buraya Yazınız\n",
        "sayi = int(input(\"Lütfen bir sayı girin: \"))\n",
        "if sayi % 7 == 0:\n",
        "    print(f\"{sayi} sayısı 7'ye tam bölünür.\")\n",
        "else:\n",
        "    print(f\"{sayi} sayısı 7'ye tam bölünmez.\")\n"
      ]
    },
    {
      "cell_type": "markdown",
      "metadata": {
        "id": "Kg3qiBAI_Te8"
      },
      "source": [
        "# Problem 2\n",
        "Kullanıcıdan vize ve final notu isteyin. Girilen vize notunun %40’ı ve\n",
        "girilen finalnotunun ise %60’ı alınarak yıl sonu not ortalaması hesaplanacaktır.\n",
        "\n",
        "Bu not ortalaması eğer 85 ve üzeri ise AA,\n",
        "\n",
        "75 ve 85 arasında ise BA,\n",
        "\n",
        "70 ve 75 arasında ise BB,\n",
        "\n",
        "65 ve 70 arasında ise CB,\n",
        "\n",
        "60 ve 65 arasında ise CC,\n",
        "\n",
        "55 ve 60 arasında ise DC,\n",
        "\n",
        "50 ve 55 arasında ise DD olarak hesaplanacaktır.\n",
        "\n",
        "Bu öğrencinin yıl sonu toplam notu 50’nin altında ise FF ile dersten kalacaktır.\n",
        "\n",
        "Ayrıca öğrencinin final notu 50’nin altında ise direkt FF ile kalacaktır."
      ]
    },
    {
      "cell_type": "code",
      "execution_count": 2,
      "metadata": {
        "id": "MXTtCxI1_Te8",
        "colab": {
          "base_uri": "https://localhost:8080/"
        },
        "outputId": "65418286-1c5b-48b8-b97a-47ec5d61082a"
      },
      "outputs": [
        {
          "output_type": "stream",
          "name": "stdout",
          "text": [
            "Vize notunuzu girin: 35\n",
            "Final notunuzu girin: 85\n",
            "Yıl sonu not ortalamanız: 65.00\n",
            "Harf notunuz: CB\n"
          ]
        }
      ],
      "source": [
        "# 2.Problemin Çözümünü Buraya Yazınız\n",
        "vize_notu = float(input(\"Vize notunuzu girin: \"))\n",
        "final_notu = float(input(\"Final notunuzu girin: \"))\n",
        "\n",
        "if final_notu < 50:\n",
        "    print(\"Final notunuz 50'nin altında. Dersten FF ile kaldınız.\")\n",
        "else:\n",
        "    yil_sonu_notu = (vize_notu * 0.4) + (final_notu * 0.6)\n",
        "\n",
        "    if yil_sonu_notu >= 85:\n",
        "        harf_notu = \"AA\"\n",
        "    elif yil_sonu_notu >= 75:\n",
        "        harf_notu = \"BA\"\n",
        "    elif yil_sonu_notu >= 70:\n",
        "        harf_notu = \"BB\"\n",
        "    elif yil_sonu_notu >= 65:\n",
        "        harf_notu = \"CB\"\n",
        "    elif yil_sonu_notu >= 60:\n",
        "        harf_notu = \"CC\"\n",
        "    elif yil_sonu_notu >= 55:\n",
        "        harf_notu = \"DC\"\n",
        "    elif yil_sonu_notu >= 50:\n",
        "        harf_notu = \"DD\"\n",
        "    else:\n",
        "        harf_notu = \"FF\"\n",
        "    print(f\"Yıl sonu not ortalamanız: {yil_sonu_notu:.2f}\")\n",
        "    print(f\"Harf notunuz: {harf_notu}\")\n",
        "\n",
        "    if harf_notu == \"FF\":\n",
        "        print(\"Dersten kaldınız.\")"
      ]
    },
    {
      "cell_type": "markdown",
      "metadata": {
        "id": "tAoRYCTC_Te8"
      },
      "source": [
        "# Problem 3\n",
        "İki YetGenli Zirve'de karşılaşıyorlar. Birbirlerini tanımak için sorular soruyorlar. Birbirlerine yaşlarını soruyorlar. Akıllarına bir Python programı yazıp, yaşlarını ve isimlerini giriyorlar. Büyük olanın yaşını ekrana yazdıran programı yazıyorlar. Sende bu iki YetGenli'ye destek olmak ister misin?\n",
        "\n",
        "```\n",
        "Birinci YetGenlinin ismi: Ahmet\n",
        "Birinci YetGenlinin yaşı : 20\n",
        "İkinci YetGenlinin ismi: Mehmet\n",
        "İkinci YetGenlinin yaşı : 25\n",
        "Mehmet'in yaşı daha büyük ve yaşı 25'tir.\n",
        "```"
      ]
    },
    {
      "cell_type": "code",
      "execution_count": 3,
      "metadata": {
        "id": "bPjE8W0i_Te8",
        "colab": {
          "base_uri": "https://localhost:8080/"
        },
        "outputId": "dc87ce6b-da85-4739-e30f-cd6c00479cae"
      },
      "outputs": [
        {
          "output_type": "stream",
          "name": "stdout",
          "text": [
            "Birinci YetGenlinin ismi: fv\n",
            "fv'in yaşı: 95\n",
            "İkinci YetGenlinin ismi: xcx\n",
            "xcx'in yaşı: 74\n",
            "fv daha büyük ve yaşı 95’dir.\n"
          ]
        }
      ],
      "source": [
        "# 3.Problemin Çözümünü Buraya Yazınız\n",
        "isim1 = input(\"Birinci YetGenlinin ismi: \")\n",
        "yas1 = int(input(f\"{isim1}'in yaşı: \"))\n",
        "\n",
        "isim2 = input(\"İkinci YetGenlinin ismi: \")\n",
        "yas2 = int(input(f\"{isim2}'in yaşı: \"))\n",
        "\n",
        "if yas1 > yas2:\n",
        "    print(f\"{isim1} daha büyük ve yaşı {yas1}’dir.\")\n",
        "elif yas2 > yas1:\n",
        "    print(f\"{isim2} daha büyük ve yaşı {yas2}’dir.\")\n",
        "else:\n",
        "    print(f\"{isim1} ve {isim2} aynı yaşta ve yaşları {yas1}’dir.\")"
      ]
    },
    {
      "cell_type": "markdown",
      "metadata": {
        "id": "zBVv8Tyg_Te9"
      },
      "source": [
        "# Problem 4\n",
        "Pandemi döneminde AVM'lerde ateş ölçümü yapılıyor. AVM'ye giren kişinin ateş ölçümü 37.5 derecenin altında ise girişe izin veriliyor. 37.5 derecenin üstünde ise girişe izin verilmiyor. AVM'ye girişe izin verilip verilmediğini ekrana yazdıran bir program yazın.\n",
        "\n",
        "Program sonunda şöyle bir çıktı elde etmelisiniz:\n",
        "\n",
        "```\n",
        "Ateşiniz 37.5 derece. AVM'ye girebilirsin! Maske takmayı unutma!\n",
        "Ateşiniz 37.6 derece. AVM'ye giremezsin! Hemen evine dön!\n",
        "```"
      ]
    },
    {
      "cell_type": "code",
      "execution_count": null,
      "metadata": {
        "id": "TSAXs8et_Te9"
      },
      "outputs": [],
      "source": [
        "# 4.Problemin Çözümünü Buraya Yazınız\n",
        "ates = float(input(\"Lütfen ateşinizi girin: \"))\n",
        "\n",
        "if ates < 37.5:\n",
        "    print(f\"Ateşiniz {ates} derece. AVM'ye girebilirsin! Maske takmayı unutma!\")\n",
        "else:\n",
        "    print(f\"Ateşiniz {ates} derece. AVM'ye giremezsin! Hemen evine dön!\")"
      ]
    },
    {
      "cell_type": "markdown",
      "metadata": {
        "id": "6AEkZrDt_Te9"
      },
      "source": [
        "# Problem 5\n",
        "YetGen bir spor kulübüyle sponsorluk anlaşması yapıyor. Kulüp, sponsorluk anlaşmasına göre her YetGen liderinin beden kitle indeksini hesaplamak istiyor. Spor kulübü, beden kitle indeksini hesaplamak için YetGen Jump Python liderlerinden Berkcan ve Ahmet'i arıyor. Berkcan ve Ahmet, kulübe yardımcı olmak için bir Python programı yazıyorlar. Sende bu iki YetGen liderine destek olmak ister misin?\n",
        "\n",
        "Kullanıcıdan alınan boy ve kilo değerlerine göre beden kitle indeksini hesaplayın ve şu kurallara göre ekrana şu yazıları yazdırın.\n",
        "\n",
        "\n",
        "Beden Kitle İndeksi, kişinin ağırlığının (kg olarak) boyunun karesine (m olarak) bölünmesiyle hesaplanır.\n",
        "\n",
        "\n",
        "```\n",
        " BKİ 18.5'un altındaysa -------> Zayıf\n",
        "\n",
        " BKİ 18.5 ile 25 arasındaysa ------> Normal\n",
        "\n",
        " BKİ 25 ile 30 arasındaysa --------> Fazla Kilolu\n",
        "\n",
        " BKİ 30'un üstündeyse -------------> Obez\n",
        "```\n",
        "\n"
      ]
    },
    {
      "cell_type": "code",
      "execution_count": 5,
      "metadata": {
        "id": "t-XPI_u0_Te-",
        "colab": {
          "base_uri": "https://localhost:8080/"
        },
        "outputId": "9f625b0c-0fa5-41df-de4f-21d51244ef2d"
      },
      "outputs": [
        {
          "output_type": "stream",
          "name": "stdout",
          "text": [
            "Lütfen boyunuzu metre cinsinden girin (örneğin 1.75): 177\n",
            "Lütfen kilonuzu kilogram cinsinden girin (örneğin 70): 78\n",
            "Beden Kitle İndeksiniz: 0.00. Durumunuz: Zayıf.\n"
          ]
        }
      ],
      "source": [
        "# 5.Problemin Çözümünü Buraya Yazınız\n",
        "boy = float(input(\"Lütfen boyunuzu metre cinsinden girin (örneğin 1.75): \"))\n",
        "kilo = float(input(\"Lütfen kilonuzu kilogram cinsinden girin (örneğin 70): \"))\n",
        "\n",
        "bki = kilo / (boy ** 2)\n",
        "if bki < 18.5:\n",
        "    durum = \"Zayıf\"\n",
        "elif 18.5 <= bki < 25:\n",
        "    durum = \"Normal\"\n",
        "elif 25 <= bki < 30:\n",
        "    durum = \"Fazla Kilolu\"\n",
        "else:\n",
        "    durum = \"Obez\"\n",
        "\n",
        "print(f\"Beden Kitle İndeksiniz: {bki:.2f}. Durumunuz: {durum}.\")"
      ]
    },
    {
      "cell_type": "markdown",
      "metadata": {
        "id": "oFsvQyaO_Te-"
      },
      "source": [
        "# Problem 6\n",
        "Kullanıcıdan isim, yaş ve eğitim bilgilerini isteyip ehliyet alabilme  durumunu kontrol ediniz.\n",
        "\n",
        "Ehliyet alma koşulu en az 18 yaşında ve eğitim durumu lise ya da üniversite olmalıdır."
      ]
    },
    {
      "cell_type": "code",
      "execution_count": 6,
      "metadata": {
        "id": "Tu2mcgco_Te-",
        "colab": {
          "base_uri": "https://localhost:8080/"
        },
        "outputId": "9c1047ef-2f2e-457f-d5fb-055006c0ac62"
      },
      "outputs": [
        {
          "output_type": "stream",
          "name": "stdout",
          "text": [
            "Lütfen isminizi girin: cx\n",
            "Lütfen yaşınızı girin: 17\n",
            "Lütfen eğitim durumunuzu girin (ilkokul, ortaokul, lise, üniversite): üni\n",
            "cx, Ehliyet alamazsınız.\n"
          ]
        }
      ],
      "source": [
        "# 6.Problemin Çözümünü Buraya Yazınız\n",
        "isim = input(\"Lütfen isminizi girin: \")\n",
        "yas = int(input(\"Lütfen yaşınızı girin: \"))\n",
        "egitim = input(\"Lütfen eğitim durumunuzu girin (ilkokul, ortaokul, lise, üniversite): \")\n",
        "\n",
        "if yas >= 18 and (egitim.lower() == \"lise\" or egitim.lower() == \"üniversite\"):\n",
        "    ehliyet_durumu = \"Ehliyet alabilirsiniz.\"\n",
        "else:\n",
        "    ehliyet_durumu = \"Ehliyet alamazsınız.\"\n",
        "\n",
        "print(f\"{isim}, {ehliyet_durumu}\")\n"
      ]
    },
    {
      "cell_type": "markdown",
      "metadata": {
        "id": "eUkxVSAE_Te_"
      },
      "source": [
        "# Problem 7\n",
        "Bir yılın artık yıl olup olmadığını kontrol etmek için bir program yazın.\n",
        "Artık yıl kuralı:\n",
        "\n",
        "a) Eğer yılın son iki basamağı (00) ile bitmiyor ve yalnızca 4'e tam bölünüyorsa artık yıldır. Ya da,\n",
        "\n",
        "b) Eğer yıl 400'e tam bölünüyorsa artık yıldır.\n",
        "\n",
        "**Örneğin**\n",
        "```\n",
        "2017 artık yıl değildir.\n",
        "1900 artık yıl değildir\n",
        "2012 artık yıldır.\n",
        "2000 artık yıldır.\n",
        "```"
      ]
    },
    {
      "cell_type": "code",
      "execution_count": 7,
      "metadata": {
        "id": "4uWh8qUL_Te_",
        "colab": {
          "base_uri": "https://localhost:8080/"
        },
        "outputId": "d06bcc53-5727-45e7-f687-3f0207eb035e"
      },
      "outputs": [
        {
          "output_type": "stream",
          "name": "stdout",
          "text": [
            "Lütfen bir yıl girin: 2002\n",
            "2002 artık yıl değildir.\n"
          ]
        }
      ],
      "source": [
        "# 7.Problemin Çözümünü Buraya Yazınız\n",
        "yil = int(input(\"Lütfen bir yıl girin: \"))\n",
        "\n",
        "if (yil % 4 == 0 and yil % 100 != 0) or (yil % 400 == 0):\n",
        "    print(f\"{yil} artık yıldır.\")\n",
        "else:\n",
        "    print(f\"{yil} artık yıl değildir.\")\n"
      ]
    }
  ],
  "metadata": {
    "kernelspec": {
      "display_name": "Python 3.10.5 64-bit",
      "language": "python",
      "name": "python3"
    },
    "language_info": {
      "name": "python",
      "version": "3.10.5"
    },
    "orig_nbformat": 4,
    "vscode": {
      "interpreter": {
        "hash": "5026d2d6e7aaaaba093def813beadff083d8733e4a511af01735cbabd156995d"
      }
    },
    "colab": {
      "provenance": []
    }
  },
  "nbformat": 4,
  "nbformat_minor": 0
}